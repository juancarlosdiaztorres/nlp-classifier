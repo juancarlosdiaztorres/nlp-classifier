{
 "cells": [
  {
   "cell_type": "markdown",
   "metadata": {},
   "source": [
    "# Scraper de Twitter usando Twitter developer-keys y buscando por query y fecha"
   ]
  },
  {
   "cell_type": "markdown",
   "metadata": {},
   "source": [
    "Primero importamos las librerías necesarias para atacar la API de Twitter y guardamos los valores de las claves en variables que alimentarán las llamadas a dichas APIs."
   ]
  },
  {
   "cell_type": "code",
   "execution_count": 8,
   "metadata": {},
   "outputs": [],
   "source": [
    "# Pip install Tweepy if you don't already have the package\n",
    "# !pip install tweepy\n",
    "\n",
    "# Imports\n",
    "import tweepy\n",
    "import pandas as pd\n",
    "import time\n",
    "\n",
    "# Credentials\n",
    "consumer_key = \"XXXXXX\"\n",
    "consumer_secret = \"XXXXX\"\n",
    "access_token = \"XXXXXXX\"\n",
    "access_token_secret = \"XXXXXXX\"\n",
    "\n",
    "auth = tweepy.OAuthHandler(consumer_key, consumer_secret)\n",
    "auth.set_access_token(access_token, access_token_secret)\n",
    "api = tweepy.API(auth,wait_on_rate_limit=True)"
   ]
  },
  {
   "cell_type": "markdown",
   "metadata": {},
   "source": [
    "# Query by Text Search"
   ]
  },
  {
   "cell_type": "markdown",
   "metadata": {},
   "source": [
    "En este caso se crea un array de tweets vacío que se irá rellenando. Además del index para recorrer el otro array de fechas introducidas. Finalmente se utiliza api_search para buscar tantos tweets como count en versión extendida con el texto que se elija, en inglés y hasta la fecha incluida."
   ]
  },
  {
   "cell_type": "code",
   "execution_count": 13,
   "metadata": {},
   "outputs": [],
   "source": [
    "tweets = []\n",
    "arrayIndex = 0\n",
    "tweet_id = 0\n",
    "dates = ['2020-05-16', '2020-05-17', '2020-05-18', '2020-05-19', '2020-05-20', '2020-05-21', '2020-05-22', '2020-05-23']\n",
    "#dates = ['2020-02-15', '2020-03-01', '2020-03-15', '2020-04-01', '2020-04-15', '2020-05-01', '2020-05-15']\n",
    "            \n",
    "def text_query_to_csv(text_query,count):\n",
    "    global dates\n",
    "    global tweet_id\n",
    "    global arrayIndex\n",
    "    try:\n",
    "\n",
    "        # Search by day\n",
    "        while (arrayIndex < len(dates)):\n",
    "          \n",
    "            # Pulling individual tweets from query\n",
    "            for tweet in api.search(q=text_query, count=count, tweet_mode='extended', lang=\"en\", until=dates[arrayIndex]):\n",
    "\n",
    "                # Adding to list that contains all tweets\n",
    "                tweets.append((tweet.created_at,tweet.id,tweet.full_text))\n",
    "                # Creation of dataframe from tweets list\n",
    "                tweetsdf = pd.DataFrame(tweets,columns=['Datetime', 'Tweet Id', 'Text'])\n",
    "\n",
    "                # Converting dataframe to CSV\n",
    "                tweetsdf.to_csv('{}-tweets.csv'.format(text_query)) \n",
    "\n",
    "            # Update ArrayIndex to cover all dates\n",
    "            arrayIndex += 1\n",
    "\n",
    "    except BaseException as e:\n",
    "        print('failed on_status,',str(e))\n",
    "        time.sleep(3)"
   ]
  },
  {
   "cell_type": "markdown",
   "metadata": {},
   "source": [
    "Finalmente se llama a la función generada y se cargará un .csv en el mismo directorio donde se esté llamando dicho notebook."
   ]
  },
  {
   "cell_type": "code",
   "execution_count": 14,
   "metadata": {},
   "outputs": [],
   "source": [
    "# Input search query to scrape tweets and name csv file\n",
    "# Max recent tweets pulls x amount of most recent tweets from that user\n",
    "text_query = '5G covid'\n",
    "count = 100\n",
    "\n",
    "# Calling function to query X amount of relevant tweets and create a CSV file\n",
    "text_query_to_csv(text_query, count)"
   ]
  }
 ],
 "metadata": {
  "kernelspec": {
   "display_name": "Python 3",
   "language": "python",
   "name": "python3"
  },
  "language_info": {
   "codemirror_mode": {
    "name": "ipython",
    "version": 3
   },
   "file_extension": ".py",
   "mimetype": "text/x-python",
   "name": "python",
   "nbconvert_exporter": "python",
   "pygments_lexer": "ipython3",
   "version": "3.7.4"
  }
 },
 "nbformat": 4,
 "nbformat_minor": 2
}
