{
 "cells": [
  {
   "cell_type": "markdown",
   "metadata": {},
   "source": [
    "# Training models JC"
   ]
  },
  {
   "cell_type": "markdown",
   "metadata": {},
   "source": [
    "## Packages and dataset imports"
   ]
  },
  {
   "cell_type": "code",
   "execution_count": 1,
   "metadata": {},
   "outputs": [],
   "source": [
    "# General import and load data\n",
    "import pandas as pd\n",
    "import numpy as np\n",
    "\n",
    "from pandas import Series, DataFrame\n",
    "\n",
    "# Training and test spliting\n",
    "from sklearn.model_selection import train_test_split\n",
    "from sklearn import preprocessing\n",
    "\n",
    "# Text splitting\n",
    "from sklearn.metrics import classification_report\n",
    "from sklearn import metrics\n",
    "from sklearn.feature_extraction.text import CountVectorizer\n",
    "from sklearn.model_selection import train_test_split \n",
    "\n",
    "# Optimization\n",
    "from sklearn.model_selection import GridSearchCV\n",
    "from sklearn.preprocessing import StandardScaler\n",
    "\n",
    "# Visualisation\n",
    "import seaborn as sns\n",
    "import matplotlib.pyplot as plt\n",
    "sns.set(color_codes=True)"
   ]
  },
  {
   "cell_type": "code",
   "execution_count": 2,
   "metadata": {},
   "outputs": [
    {
     "data": {
      "text/html": [
       "<div>\n",
       "<style scoped>\n",
       "    .dataframe tbody tr th:only-of-type {\n",
       "        vertical-align: middle;\n",
       "    }\n",
       "\n",
       "    .dataframe tbody tr th {\n",
       "        vertical-align: top;\n",
       "    }\n",
       "\n",
       "    .dataframe thead th {\n",
       "        text-align: right;\n",
       "    }\n",
       "</style>\n",
       "<table border=\"1\" class=\"dataframe\">\n",
       "  <thead>\n",
       "    <tr style=\"text-align: right;\">\n",
       "      <th></th>\n",
       "      <th>tweet</th>\n",
       "      <th>emotion</th>\n",
       "      <th>clean</th>\n",
       "      <th>Tweet_len</th>\n",
       "      <th>hashtags</th>\n",
       "      <th>n_htags</th>\n",
       "      <th>word_count</th>\n",
       "      <th>ev_emoji</th>\n",
       "      <th>stopwords</th>\n",
       "      <th>stem</th>\n",
       "      <th>polarity</th>\n",
       "    </tr>\n",
       "    <tr>\n",
       "      <th>id</th>\n",
       "      <th></th>\n",
       "      <th></th>\n",
       "      <th></th>\n",
       "      <th></th>\n",
       "      <th></th>\n",
       "      <th></th>\n",
       "      <th></th>\n",
       "      <th></th>\n",
       "      <th></th>\n",
       "      <th></th>\n",
       "      <th></th>\n",
       "    </tr>\n",
       "  </thead>\n",
       "  <tbody>\n",
       "    <tr>\n",
       "      <td>1255337686510055424</td>\n",
       "      <td>TIME TO PLAN YOUR END OF YEAR PARTY!\\nWe are n...</td>\n",
       "      <td>0.40000</td>\n",
       "      <td>time to plan your end of year party  we are no...</td>\n",
       "      <td>245</td>\n",
       "      <td>set()</td>\n",
       "      <td>0</td>\n",
       "      <td>37</td>\n",
       "      <td>0</td>\n",
       "      <td>time plan year party taking bookings iso funct...</td>\n",
       "      <td>time plan end year parti take book end iso fun...</td>\n",
       "      <td>1</td>\n",
       "    </tr>\n",
       "    <tr>\n",
       "      <td>1255337898473390080</td>\n",
       "      <td>Impact of COVID-19 on HIV-Associated Lipodystr...</td>\n",
       "      <td>0.25000</td>\n",
       "      <td>impact of covid 19 on hiv associated lipodystr...</td>\n",
       "      <td>246</td>\n",
       "      <td>set()</td>\n",
       "      <td>0</td>\n",
       "      <td>32</td>\n",
       "      <td>0</td>\n",
       "      <td>impact covid 19 hiv associated lipodystrophy t...</td>\n",
       "      <td>impact covid 19 hiv associ lipodystrophi treat...</td>\n",
       "      <td>1</td>\n",
       "    </tr>\n",
       "    <tr>\n",
       "      <td>1255339536223211520</td>\n",
       "      <td>Tailgating at Camp Covid on a cool, breezy nig...</td>\n",
       "      <td>0.35000</td>\n",
       "      <td>tailgating at camp covid on a cool breezy nigh...</td>\n",
       "      <td>192</td>\n",
       "      <td>set()</td>\n",
       "      <td>0</td>\n",
       "      <td>29</td>\n",
       "      <td>0</td>\n",
       "      <td>tailgating camp covid cool breezy night living...</td>\n",
       "      <td>tailgat camp covid cool breezi night live bode...</td>\n",
       "      <td>1</td>\n",
       "    </tr>\n",
       "    <tr>\n",
       "      <td>1255339600446398465</td>\n",
       "      <td>TURN OFF SA COVID, ON NA ON SA SQUID: Fresh na...</td>\n",
       "      <td>0.36875</td>\n",
       "      <td>turn off sa covid on na on sa squid  fresh na ...</td>\n",
       "      <td>241</td>\n",
       "      <td>{'misamisoccidental', 'oroquietacity'}</td>\n",
       "      <td>2</td>\n",
       "      <td>37</td>\n",
       "      <td>0</td>\n",
       "      <td>turn covid squid fresh fresh blue seawaters or...</td>\n",
       "      <td>turn sa covid na sa squid fresh na fresh blue ...</td>\n",
       "      <td>1</td>\n",
       "    </tr>\n",
       "    <tr>\n",
       "      <td>1255339834224381952</td>\n",
       "      <td>If self isolation works for COVID-19, maybe we...</td>\n",
       "      <td>-0.00625</td>\n",
       "      <td>if self isolation works for covid 19 maybe we ...</td>\n",
       "      <td>269</td>\n",
       "      <td>set()</td>\n",
       "      <td>0</td>\n",
       "      <td>47</td>\n",
       "      <td>0</td>\n",
       "      <td>self isolation works covid 19 maybe try things...</td>\n",
       "      <td>self isol work covid 19 mayb tri thing suck go...</td>\n",
       "      <td>-1</td>\n",
       "    </tr>\n",
       "  </tbody>\n",
       "</table>\n",
       "</div>"
      ],
      "text/plain": [
       "                                                                 tweet  \\\n",
       "id                                                                       \n",
       "1255337686510055424  TIME TO PLAN YOUR END OF YEAR PARTY!\\nWe are n...   \n",
       "1255337898473390080  Impact of COVID-19 on HIV-Associated Lipodystr...   \n",
       "1255339536223211520  Tailgating at Camp Covid on a cool, breezy nig...   \n",
       "1255339600446398465  TURN OFF SA COVID, ON NA ON SA SQUID: Fresh na...   \n",
       "1255339834224381952  If self isolation works for COVID-19, maybe we...   \n",
       "\n",
       "                     emotion  \\\n",
       "id                             \n",
       "1255337686510055424  0.40000   \n",
       "1255337898473390080  0.25000   \n",
       "1255339536223211520  0.35000   \n",
       "1255339600446398465  0.36875   \n",
       "1255339834224381952 -0.00625   \n",
       "\n",
       "                                                                 clean  \\\n",
       "id                                                                       \n",
       "1255337686510055424  time to plan your end of year party  we are no...   \n",
       "1255337898473390080  impact of covid 19 on hiv associated lipodystr...   \n",
       "1255339536223211520  tailgating at camp covid on a cool breezy nigh...   \n",
       "1255339600446398465  turn off sa covid on na on sa squid  fresh na ...   \n",
       "1255339834224381952  if self isolation works for covid 19 maybe we ...   \n",
       "\n",
       "                     Tweet_len                                hashtags  \\\n",
       "id                                                                       \n",
       "1255337686510055424        245                                   set()   \n",
       "1255337898473390080        246                                   set()   \n",
       "1255339536223211520        192                                   set()   \n",
       "1255339600446398465        241  {'misamisoccidental', 'oroquietacity'}   \n",
       "1255339834224381952        269                                   set()   \n",
       "\n",
       "                     n_htags  word_count  ev_emoji  \\\n",
       "id                                                   \n",
       "1255337686510055424        0          37         0   \n",
       "1255337898473390080        0          32         0   \n",
       "1255339536223211520        0          29         0   \n",
       "1255339600446398465        2          37         0   \n",
       "1255339834224381952        0          47         0   \n",
       "\n",
       "                                                             stopwords  \\\n",
       "id                                                                       \n",
       "1255337686510055424  time plan year party taking bookings iso funct...   \n",
       "1255337898473390080  impact covid 19 hiv associated lipodystrophy t...   \n",
       "1255339536223211520  tailgating camp covid cool breezy night living...   \n",
       "1255339600446398465  turn covid squid fresh fresh blue seawaters or...   \n",
       "1255339834224381952  self isolation works covid 19 maybe try things...   \n",
       "\n",
       "                                                                  stem  \\\n",
       "id                                                                       \n",
       "1255337686510055424  time plan end year parti take book end iso fun...   \n",
       "1255337898473390080  impact covid 19 hiv associ lipodystrophi treat...   \n",
       "1255339536223211520  tailgat camp covid cool breezi night live bode...   \n",
       "1255339600446398465  turn sa covid na sa squid fresh na fresh blue ...   \n",
       "1255339834224381952  self isol work covid 19 mayb tri thing suck go...   \n",
       "\n",
       "                     polarity  \n",
       "id                             \n",
       "1255337686510055424         1  \n",
       "1255337898473390080         1  \n",
       "1255339536223211520         1  \n",
       "1255339600446398465         1  \n",
       "1255339834224381952        -1  "
      ]
     },
     "execution_count": 2,
     "metadata": {},
     "output_type": "execute_result"
    }
   ],
   "source": [
    "# Import clean dataset \n",
    "df_em_clean = pd.read_csv('dataset-clean.csv')\n",
    "# Show clean dataset \n",
    "df_em_clean = df_em_clean.set_index('id')\n",
    "df_em_clean.head()"
   ]
  },
  {
   "cell_type": "code",
   "execution_count": 3,
   "metadata": {},
   "outputs": [],
   "source": [
    "# Detected NaN text so remove it\n",
    "df_em_clean = df_em_clean.drop(df_em_clean[df_em_clean.stopwords.isna()].index)"
   ]
  },
  {
   "cell_type": "code",
   "execution_count": 4,
   "metadata": {},
   "outputs": [
    {
     "data": {
      "text/html": [
       "<div>\n",
       "<style scoped>\n",
       "    .dataframe tbody tr th:only-of-type {\n",
       "        vertical-align: middle;\n",
       "    }\n",
       "\n",
       "    .dataframe tbody tr th {\n",
       "        vertical-align: top;\n",
       "    }\n",
       "\n",
       "    .dataframe thead th {\n",
       "        text-align: right;\n",
       "    }\n",
       "</style>\n",
       "<table border=\"1\" class=\"dataframe\">\n",
       "  <thead>\n",
       "    <tr style=\"text-align: right;\">\n",
       "      <th></th>\n",
       "      <th>tweet</th>\n",
       "      <th>emotion</th>\n",
       "      <th>clean</th>\n",
       "      <th>Tweet_len</th>\n",
       "      <th>hashtags</th>\n",
       "      <th>n_htags</th>\n",
       "      <th>word_count</th>\n",
       "      <th>ev_emoji</th>\n",
       "      <th>stopwords</th>\n",
       "      <th>stem</th>\n",
       "      <th>polarity</th>\n",
       "    </tr>\n",
       "    <tr>\n",
       "      <th>id</th>\n",
       "      <th></th>\n",
       "      <th></th>\n",
       "      <th></th>\n",
       "      <th></th>\n",
       "      <th></th>\n",
       "      <th></th>\n",
       "      <th></th>\n",
       "      <th></th>\n",
       "      <th></th>\n",
       "      <th></th>\n",
       "      <th></th>\n",
       "    </tr>\n",
       "  </thead>\n",
       "  <tbody>\n",
       "  </tbody>\n",
       "</table>\n",
       "</div>"
      ],
      "text/plain": [
       "Empty DataFrame\n",
       "Columns: [tweet, emotion, clean, Tweet_len, hashtags, n_htags, word_count, ev_emoji, stopwords, stem, polarity]\n",
       "Index: []"
      ]
     },
     "execution_count": 4,
     "metadata": {},
     "output_type": "execute_result"
    }
   ],
   "source": [
    "# Check\n",
    "df_em_clean[df_em_clean.stopwords.isna()]"
   ]
  },
  {
   "cell_type": "markdown",
   "metadata": {},
   "source": [
    "## Transformations"
   ]
  },
  {
   "cell_type": "code",
   "execution_count": 5,
   "metadata": {},
   "outputs": [
    {
     "data": {
      "text/html": [
       "<div>\n",
       "<style scoped>\n",
       "    .dataframe tbody tr th:only-of-type {\n",
       "        vertical-align: middle;\n",
       "    }\n",
       "\n",
       "    .dataframe tbody tr th {\n",
       "        vertical-align: top;\n",
       "    }\n",
       "\n",
       "    .dataframe thead th {\n",
       "        text-align: right;\n",
       "    }\n",
       "</style>\n",
       "<table border=\"1\" class=\"dataframe\">\n",
       "  <thead>\n",
       "    <tr style=\"text-align: right;\">\n",
       "      <th></th>\n",
       "      <th>tweet</th>\n",
       "      <th>emotion</th>\n",
       "      <th>clean</th>\n",
       "      <th>Tweet_len</th>\n",
       "      <th>n_htags</th>\n",
       "      <th>word_count</th>\n",
       "      <th>ev_emojis</th>\n",
       "      <th>clean_text</th>\n",
       "      <th>stem</th>\n",
       "      <th>polarity</th>\n",
       "    </tr>\n",
       "    <tr>\n",
       "      <th>id</th>\n",
       "      <th></th>\n",
       "      <th></th>\n",
       "      <th></th>\n",
       "      <th></th>\n",
       "      <th></th>\n",
       "      <th></th>\n",
       "      <th></th>\n",
       "      <th></th>\n",
       "      <th></th>\n",
       "      <th></th>\n",
       "    </tr>\n",
       "  </thead>\n",
       "  <tbody>\n",
       "    <tr>\n",
       "      <td>1255337686510055424</td>\n",
       "      <td>TIME TO PLAN YOUR END OF YEAR PARTY!\\nWe are n...</td>\n",
       "      <td>0.40000</td>\n",
       "      <td>time to plan your end of year party  we are no...</td>\n",
       "      <td>245</td>\n",
       "      <td>0</td>\n",
       "      <td>37</td>\n",
       "      <td>0</td>\n",
       "      <td>time plan year party taking bookings iso funct...</td>\n",
       "      <td>time plan end year parti take book end iso fun...</td>\n",
       "      <td>1</td>\n",
       "    </tr>\n",
       "    <tr>\n",
       "      <td>1255337898473390080</td>\n",
       "      <td>Impact of COVID-19 on HIV-Associated Lipodystr...</td>\n",
       "      <td>0.25000</td>\n",
       "      <td>impact of covid 19 on hiv associated lipodystr...</td>\n",
       "      <td>246</td>\n",
       "      <td>0</td>\n",
       "      <td>32</td>\n",
       "      <td>0</td>\n",
       "      <td>impact covid 19 hiv associated lipodystrophy t...</td>\n",
       "      <td>impact covid 19 hiv associ lipodystrophi treat...</td>\n",
       "      <td>1</td>\n",
       "    </tr>\n",
       "    <tr>\n",
       "      <td>1255339536223211520</td>\n",
       "      <td>Tailgating at Camp Covid on a cool, breezy nig...</td>\n",
       "      <td>0.35000</td>\n",
       "      <td>tailgating at camp covid on a cool breezy nigh...</td>\n",
       "      <td>192</td>\n",
       "      <td>0</td>\n",
       "      <td>29</td>\n",
       "      <td>0</td>\n",
       "      <td>tailgating camp covid cool breezy night living...</td>\n",
       "      <td>tailgat camp covid cool breezi night live bode...</td>\n",
       "      <td>1</td>\n",
       "    </tr>\n",
       "    <tr>\n",
       "      <td>1255339600446398465</td>\n",
       "      <td>TURN OFF SA COVID, ON NA ON SA SQUID: Fresh na...</td>\n",
       "      <td>0.36875</td>\n",
       "      <td>turn off sa covid on na on sa squid  fresh na ...</td>\n",
       "      <td>241</td>\n",
       "      <td>2</td>\n",
       "      <td>37</td>\n",
       "      <td>0</td>\n",
       "      <td>turn covid squid fresh fresh blue seawaters or...</td>\n",
       "      <td>turn sa covid na sa squid fresh na fresh blue ...</td>\n",
       "      <td>1</td>\n",
       "    </tr>\n",
       "    <tr>\n",
       "      <td>1255339834224381952</td>\n",
       "      <td>If self isolation works for COVID-19, maybe we...</td>\n",
       "      <td>-0.00625</td>\n",
       "      <td>if self isolation works for covid 19 maybe we ...</td>\n",
       "      <td>269</td>\n",
       "      <td>0</td>\n",
       "      <td>47</td>\n",
       "      <td>0</td>\n",
       "      <td>self isolation works covid 19 maybe try things...</td>\n",
       "      <td>self isol work covid 19 mayb tri thing suck go...</td>\n",
       "      <td>-1</td>\n",
       "    </tr>\n",
       "  </tbody>\n",
       "</table>\n",
       "</div>"
      ],
      "text/plain": [
       "                                                                 tweet  \\\n",
       "id                                                                       \n",
       "1255337686510055424  TIME TO PLAN YOUR END OF YEAR PARTY!\\nWe are n...   \n",
       "1255337898473390080  Impact of COVID-19 on HIV-Associated Lipodystr...   \n",
       "1255339536223211520  Tailgating at Camp Covid on a cool, breezy nig...   \n",
       "1255339600446398465  TURN OFF SA COVID, ON NA ON SA SQUID: Fresh na...   \n",
       "1255339834224381952  If self isolation works for COVID-19, maybe we...   \n",
       "\n",
       "                     emotion  \\\n",
       "id                             \n",
       "1255337686510055424  0.40000   \n",
       "1255337898473390080  0.25000   \n",
       "1255339536223211520  0.35000   \n",
       "1255339600446398465  0.36875   \n",
       "1255339834224381952 -0.00625   \n",
       "\n",
       "                                                                 clean  \\\n",
       "id                                                                       \n",
       "1255337686510055424  time to plan your end of year party  we are no...   \n",
       "1255337898473390080  impact of covid 19 on hiv associated lipodystr...   \n",
       "1255339536223211520  tailgating at camp covid on a cool breezy nigh...   \n",
       "1255339600446398465  turn off sa covid on na on sa squid  fresh na ...   \n",
       "1255339834224381952  if self isolation works for covid 19 maybe we ...   \n",
       "\n",
       "                     Tweet_len  n_htags  word_count  ev_emojis  \\\n",
       "id                                                               \n",
       "1255337686510055424        245        0          37          0   \n",
       "1255337898473390080        246        0          32          0   \n",
       "1255339536223211520        192        0          29          0   \n",
       "1255339600446398465        241        2          37          0   \n",
       "1255339834224381952        269        0          47          0   \n",
       "\n",
       "                                                            clean_text  \\\n",
       "id                                                                       \n",
       "1255337686510055424  time plan year party taking bookings iso funct...   \n",
       "1255337898473390080  impact covid 19 hiv associated lipodystrophy t...   \n",
       "1255339536223211520  tailgating camp covid cool breezy night living...   \n",
       "1255339600446398465  turn covid squid fresh fresh blue seawaters or...   \n",
       "1255339834224381952  self isolation works covid 19 maybe try things...   \n",
       "\n",
       "                                                                  stem  \\\n",
       "id                                                                       \n",
       "1255337686510055424  time plan end year parti take book end iso fun...   \n",
       "1255337898473390080  impact covid 19 hiv associ lipodystrophi treat...   \n",
       "1255339536223211520  tailgat camp covid cool breezi night live bode...   \n",
       "1255339600446398465  turn sa covid na sa squid fresh na fresh blue ...   \n",
       "1255339834224381952  self isol work covid 19 mayb tri thing suck go...   \n",
       "\n",
       "                     polarity  \n",
       "id                             \n",
       "1255337686510055424         1  \n",
       "1255337898473390080         1  \n",
       "1255339536223211520         1  \n",
       "1255339600446398465         1  \n",
       "1255339834224381952        -1  "
      ]
     },
     "execution_count": 5,
     "metadata": {},
     "output_type": "execute_result"
    }
   ],
   "source": [
    "# Clean set\n",
    "# Delete first column and select proper columns \n",
    "df_em_clean.columns = ['tweet','emotion','clean','Tweet_len','hashtags','n_htags','word_count','ev_emojis','clean_text','stem','polarity']\n",
    "df_em_clean.drop(['hashtags'], axis=1, inplace=True)\n",
    "df_em_clean.head()"
   ]
  },
  {
   "cell_type": "code",
   "execution_count": 6,
   "metadata": {},
   "outputs": [
    {
     "data": {
      "text/plain": [
       "<matplotlib.axes._subplots.AxesSubplot at 0x223931c2a88>"
      ]
     },
     "execution_count": 6,
     "metadata": {},
     "output_type": "execute_result"
    },
    {
     "data": {
      "image/png": "[encoded data removed]",
      "text/plain": [
       "<Figure size 432x288 with 1 Axes>"
      ]
     },
     "metadata": {
      "needs_background": "light"
     },
     "output_type": "display_data"
    }
   ],
   "source": [
    "df_em_clean['polarity'].hist()"
   ]
  },
  {
   "cell_type": "code",
   "execution_count": 7,
   "metadata": {},
   "outputs": [],
   "source": [
    "###########\n",
    "## Apply count vectorizer to 2 dfs.\n",
    "##   - The first one has emotions with any values between -1 and 1\n",
    "##   - The second works with -1 or 1 and both clean_text and stem\n",
    "###########\n",
    "count_vectorizer = CountVectorizer()\n",
    "\n",
    "# Test with raw test for KNN\n",
    "# Count Vectorizer with clean_text with polarity [-1 or 1]\n",
    "counts = count_vectorizer.fit_transform(df_em_clean['tweet'].values)\n",
    "targets = df_em_clean['polarity'].values\n",
    "\n",
    "# Count Vectorizer with clean_text with polarity [-1 or 1]\n",
    "counts_2 = count_vectorizer.fit_transform(df_em_clean['clean'].values)\n",
    "targets_2 = df_em_clean['polarity'].values\n",
    "\n",
    "# Count Vectorizer with stem_text with polarity [-1 or 1]\n",
    "counts_3 = count_vectorizer.fit_transform(df_em_clean['stem'].values)\n",
    "targets_3 = df_em_clean['polarity'].values"
   ]
  },
  {
   "cell_type": "markdown",
   "metadata": {},
   "source": [
    "## Splitting and creating X and Y"
   ]
  },
  {
   "cell_type": "code",
   "execution_count": 8,
   "metadata": {},
   "outputs": [],
   "source": [
    "# Create variables for both stem and not stem without SMOTE\n",
    "X_train_raw, X_test_raw, y_train_raw, y_test_raw = train_test_split(counts, targets, test_size=0.25, random_state=33)\n",
    "X_train_2_unbalanced, X_test_2_unbalanced, y_train_2_unbalanced, y_test_2_unbalanced = train_test_split(counts_2, targets_2, test_size=0.25, random_state=33)\n",
    "X_train_3_unbalanced, X_test_3_unbalanced, y_train_3_unbalanced, y_test_3_unbalanced = train_test_split(counts_3, targets_3, test_size=0.25, random_state=33)"
   ]
  },
  {
   "cell_type": "markdown",
   "metadata": {},
   "source": [
    "##  Using SMOTE"
   ]
  },
  {
   "cell_type": "code",
   "execution_count": 9,
   "metadata": {},
   "outputs": [],
   "source": [
    "# Using SMOTE to balance the dataset (It avoids overfitting)\n",
    "\n",
    "from imblearn.over_sampling import SMOTE\n",
    "sm = SMOTE(random_state = 33)\n",
    "X_train_2, y_train_2 = sm.fit_sample(X_train_2_unbalanced, y_train_2_unbalanced)\n",
    "X_test_2, y_test_2 = sm.fit_sample(X_test_2_unbalanced, y_test_2_unbalanced)\n",
    "X_train_3, y_train_3 = sm.fit_sample(X_train_3_unbalanced, y_train_3_unbalanced)\n",
    "X_test_3, y_test_3 = sm.fit_sample(X_test_3_unbalanced, y_test_3_unbalanced)"
   ]
  },
  {
   "cell_type": "markdown",
   "metadata": {},
   "source": [
    "# Algorithms"
   ]
  },
  {
   "cell_type": "markdown",
   "metadata": {},
   "source": [
    "### General Imports"
   ]
  },
  {
   "cell_type": "code",
   "execution_count": 10,
   "metadata": {},
   "outputs": [],
   "source": [
    "import sklearn\n",
    "import numpy as np\n",
    "from sklearn.ensemble        import RandomForestClassifier\n",
    "from sklearn.svm             import SVC\n",
    "from sklearn.tree            import DecisionTreeClassifier\n",
    "from sklearn.naive_bayes     import GaussianNB\n",
    "from sklearn.neighbors       import KNeighborsClassifier\n",
    "from sklearn.linear_model    import Perceptron\n",
    "from sklearn.neural_network  import MLPClassifier\n",
    "from sklearn.ensemble        import BaggingClassifier\n",
    "from sklearn.metrics         import accuracy_score"
   ]
  },
  {
   "cell_type": "markdown",
   "metadata": {},
   "source": [
    "### Logistic Regression"
   ]
  },
  {
   "cell_type": "code",
   "execution_count": 11,
   "metadata": {},
   "outputs": [
    {
     "name": "stdout",
     "output_type": "stream",
     "text": [
      "LogisticRegression accuracy with clean text columnd and balanced is: 0.8646362098138748\n",
      "LogisticRegression accuracy with clean text columnd and unbalanced is: 0.8349875930521092\n",
      "LogisticRegression accuracy with clean text with stemmed text columns and balanced is: 0.8629441624365483\n",
      "LogisticRegression accuracy with clean text with stemmed text columns and unbalanced is: 0.8213399503722084\n"
     ]
    }
   ],
   "source": [
    "# Logistic Regression\n",
    "\n",
    "## Logistic Regression with clean text\n",
    "\n",
    "LogReg_JC = sklearn.linear_model.LogisticRegression()  \n",
    "\n",
    "### Balanced\n",
    "LogReg_JC.fit(X_train_2, y_train_2)\n",
    "LogReg_pred_JC = LogReg_JC.predict(X_test_2)\n",
    "LogReg_acc_JC = accuracy_score(LogReg_pred_JC, y_test_2)\n",
    "print('LogisticRegression accuracy with clean text columnd and balanced is: ' + str(LogReg_acc_JC))\n",
    "\n",
    "LogReg_JC_unbalanced = sklearn.linear_model.LogisticRegression()  \n",
    "\n",
    "### Unbalanced\n",
    "LogReg_JC_unbalanced.fit(X_train_2_unbalanced, y_train_2_unbalanced)\n",
    "LogReg_pred_JC_unbalanced = LogReg_JC_unbalanced.predict(X_test_2_unbalanced)\n",
    "LogReg_acc_JC_unbalanced = accuracy_score(LogReg_pred_JC_unbalanced, y_test_2_unbalanced)\n",
    "print('LogisticRegression accuracy with clean text columnd and unbalanced is: ' + str(LogReg_acc_JC_unbalanced))\n",
    "\n",
    "## Logistic Regression with stemmed text\n",
    "\n",
    "LogReg_JC_2 = sklearn.linear_model.LogisticRegression()  \n",
    "\n",
    "### Balanced\n",
    "LogReg_JC_2.fit(X_train_3, y_train_3)\n",
    "LogReg_pred_JC_2 = LogReg_JC_2.predict(X_test_3)\n",
    "LogReg_acc_JC_2 = accuracy_score(LogReg_pred_JC_2, y_test_3)\n",
    "print('LogisticRegression accuracy with clean text with stemmed text columns and balanced is: ' + str(LogReg_acc_JC_2))\n",
    "\n",
    "LogReg_JC_unbalanced_2 = sklearn.linear_model.LogisticRegression()  \n",
    "\n",
    "### Unbalanced\n",
    "LogReg_JC_unbalanced_2.fit(X_train_3_unbalanced, y_train_3_unbalanced)\n",
    "LogReg_pred_JC_unbalanced_2 = LogReg_JC_unbalanced_2.predict(X_test_3_unbalanced)\n",
    "LogReg_acc_JC_unbalanced_2 = accuracy_score(LogReg_pred_JC_unbalanced_2, y_test_3_unbalanced)\n",
    "print('LogisticRegression accuracy with clean text with stemmed text columns and unbalanced is: ' + str(LogReg_acc_JC_unbalanced_2))\n"
   ]
  },
  {
   "cell_type": "code",
   "execution_count": 12,
   "metadata": {},
   "outputs": [
    {
     "name": "stdout",
     "output_type": "stream",
     "text": [
      "[[517  74]\n",
      " [ 88 503]]\n",
      "              precision    recall  f1-score   support\n",
      "\n",
      "          -1       0.85      0.87      0.86       591\n",
      "           1       0.87      0.85      0.86       591\n",
      "\n",
      "    accuracy                           0.86      1182\n",
      "   macro avg       0.86      0.86      0.86      1182\n",
      "weighted avg       0.86      0.86      0.86      1182\n",
      "\n"
     ]
    }
   ],
   "source": [
    "# Confusion matrix\n",
    "print(metrics.confusion_matrix(y_test_3, LogReg_pred_JC_2))\n",
    "\n",
    "# Report\n",
    "print(classification_report(y_test_3, LogReg_pred_JC_2))"
   ]
  },
  {
   "cell_type": "markdown",
   "metadata": {},
   "source": [
    "Como se puede ver, el segundo resultado (texto sin stopwords y stemmed) arroja peores resultados (por muy poco, por tanto se puede considerar lo mismo) que el primero que únicamente tiene un primer preprocesamiento hecho (quitar \"@\", links, etc). \n",
    "Es por ello por lo que se plantea que el preprocesamiento para este caso no es del todo importante. Además otra conclusión clara es que el balanceo del dataset usando SMOTE ayuda mucho a la precisión final tal y como se aprecia en los resultados."
   ]
  },
  {
   "cell_type": "markdown",
   "metadata": {},
   "source": [
    "### Perceptron"
   ]
  },
  {
   "cell_type": "code",
   "execution_count": 13,
   "metadata": {},
   "outputs": [
    {
     "name": "stdout",
     "output_type": "stream",
     "text": [
      "Perceptron accuracy with clean text column and balanced is: 0.868020304568528\n",
      "Perceptron accuracy with clean text column and unbalanced is: 0.8337468982630273\n",
      "Perceptron accuracy with stemmed text column and balanced is: 0.8595600676818951\n",
      "Perceptron accuracy with stemmed text column and unbalanced is: 0.8225806451612904\n"
     ]
    }
   ],
   "source": [
    "# Perceptron\n",
    "\n",
    "## Perceptron with clean text\n",
    "\n",
    "Perc_JC = Perceptron(max_iter=10000,tol=0.1)\n",
    "\n",
    "### Balanced\n",
    "Perc_JC.fit(X_train_2, y_train_2)\n",
    "Perc_JC_pred = Perc_JC.predict(X_test_2)\n",
    "Perc_JC_acc = accuracy_score(Perc_JC_pred, y_test_2)\n",
    "print('Perceptron accuracy with clean text column and balanced is: ' + str(Perc_JC_acc))\n",
    "\n",
    "\n",
    "### Unbalanced\n",
    "Perc_JC.fit(X_train_2_unbalanced, y_train_2_unbalanced)\n",
    "Perc_JC_pred_unbalanced = Perc_JC.predict(X_test_2_unbalanced)\n",
    "Perc_JC_acc_unbalanced = accuracy_score(Perc_JC_pred_unbalanced, y_test_2_unbalanced)\n",
    "print('Perceptron accuracy with clean text column and unbalanced is: ' + str(Perc_JC_acc_unbalanced))\n",
    "\n",
    "## Perceptron with stemmed text\n",
    "\n",
    "Perc_JC_2 = Perceptron(max_iter=10000,tol=0.1)\n",
    "\n",
    "### Balanced\n",
    "Perc_JC_2.fit(X_train_3, y_train_3)\n",
    "Perc_JC_pred_2 = Perc_JC_2.predict(X_test_3)\n",
    "Perc_JC_acc_2 = accuracy_score(Perc_JC_pred_2, y_test_3)\n",
    "print('Perceptron accuracy with stemmed text column and balanced is: ' + str(Perc_JC_acc_2))\n",
    "\n",
    "### Unbalanced\n",
    "Perc_JC_2.fit(X_train_3_unbalanced, y_train_3_unbalanced)\n",
    "Perc_JC_unbalanced_pred_2 = Perc_JC_2.predict(X_test_3_unbalanced)\n",
    "Perc_JC_acc_unbalanced_2 = accuracy_score(Perc_JC_unbalanced_pred_2, y_test_3_unbalanced)\n",
    "print('Perceptron accuracy with stemmed text column and unbalanced is: ' + str(Perc_JC_acc_unbalanced_2))"
   ]
  },
  {
   "cell_type": "code",
   "execution_count": 14,
   "metadata": {},
   "outputs": [
    {
     "name": "stdout",
     "output_type": "stream",
     "text": [
      "[[483 108]\n",
      " [ 48 543]]\n",
      "              precision    recall  f1-score   support\n",
      "\n",
      "          -1       0.91      0.82      0.86       591\n",
      "           1       0.83      0.92      0.87       591\n",
      "\n",
      "    accuracy                           0.87      1182\n",
      "   macro avg       0.87      0.87      0.87      1182\n",
      "weighted avg       0.87      0.87      0.87      1182\n",
      "\n"
     ]
    }
   ],
   "source": [
    "# Confusion matrix\n",
    "print(metrics.confusion_matrix(y_test_2, Perc_JC_pred))\n",
    "\n",
    "# Report\n",
    "print(classification_report(y_test_2, Perc_JC_pred))"
   ]
  },
  {
   "cell_type": "markdown",
   "metadata": {},
   "source": [
    "Como en el caso anterior, las conclusiones vuelven a ser muy parecidas. Se obtienen aproximadamente los mismos resultados. La limpieza del texto deja la accuracy prácticamente idéntica (incluso la disminuye), pero el balanceo del dataset mejora sustancialmente los resultados."
   ]
  },
  {
   "cell_type": "markdown",
   "metadata": {},
   "source": [
    "### Multi Layer Perceptron"
   ]
  },
  {
   "cell_type": "code",
   "execution_count": 15,
   "metadata": {},
   "outputs": [
    {
     "name": "stdout",
     "output_type": "stream",
     "text": [
      "MLP accuracy with clean text column and balanced is: 0.8663282571912013\n",
      "MLP accuracy with clean text column and unbalanced is: 0.8424317617866005\n",
      "MLP accuracy with stemmed text column and balanced is: 0.8434856175972927\n",
      "MLP accuracy with stemmed text column and unbalanced is: 0.8052109181141439\n"
     ]
    }
   ],
   "source": [
    "# MLP\n",
    "\n",
    "## MLP with clean text\n",
    "\n",
    "MLP_JC = MLPClassifier(hidden_layer_sizes = (50,40,50))\n",
    "\n",
    "### Balanced\n",
    "MLP_JC.fit(X_train_2, y_train_2)\n",
    "MLP_JC_pred = MLP_JC.predict(X_test_2)\n",
    "MLP_JC_acc = accuracy_score(MLP_JC_pred, y_test_2)\n",
    "print('MLP accuracy with clean text column and balanced is: ' + str(MLP_JC_acc))\n",
    "\n",
    "### Unbalanced\n",
    "MLP_JC.fit(X_train_2_unbalanced, y_train_2_unbalanced)\n",
    "MLP_JC_pred_unbalanced = MLP_JC.predict(X_test_2_unbalanced)\n",
    "MLP_JC_acc_unbalanced = accuracy_score(MLP_JC_pred_unbalanced, y_test_2_unbalanced)\n",
    "print('MLP accuracy with clean text column and unbalanced is: ' + str(MLP_JC_acc_unbalanced))\n",
    "\n",
    "## MLP with stemmed text\n",
    "\n",
    "MLP_JC_2 = MLPClassifier(hidden_layer_sizes = (50,40,50))\n",
    "\n",
    "### Balanced\n",
    "MLP_JC_2.fit(X_train_3, y_train_3)\n",
    "MLP_JC_pred_2 = MLP_JC_2.predict(X_test_3)\n",
    "MLP_JC_acc_2 = accuracy_score(MLP_JC_pred_2, y_test_3)\n",
    "print('MLP accuracy with stemmed text column and balanced is: ' + str(MLP_JC_acc_2))\n",
    "\n",
    "### Unbalanced\n",
    "MLP_JC_2.fit(X_train_3_unbalanced, y_train_3_unbalanced)\n",
    "MLP_JC_unbalanced_pred_2 = MLP_JC_2.predict(X_test_3_unbalanced)\n",
    "MLP_JC_unbalanced_acc_2 = accuracy_score(MLP_JC_unbalanced_pred_2, y_test_3_unbalanced)\n",
    "print('MLP accuracy with stemmed text column and unbalanced is: ' + str(MLP_JC_unbalanced_acc_2))"
   ]
  },
  {
   "cell_type": "code",
   "execution_count": 16,
   "metadata": {},
   "outputs": [
    {
     "name": "stdout",
     "output_type": "stream",
     "text": [
      "[[513  78]\n",
      " [ 80 511]]\n",
      "              precision    recall  f1-score   support\n",
      "\n",
      "          -1       0.87      0.87      0.87       591\n",
      "           1       0.87      0.86      0.87       591\n",
      "\n",
      "    accuracy                           0.87      1182\n",
      "   macro avg       0.87      0.87      0.87      1182\n",
      "weighted avg       0.87      0.87      0.87      1182\n",
      "\n"
     ]
    }
   ],
   "source": [
    "# Confusion matrix\n",
    "print(metrics.confusion_matrix(y_test_2, MLP_JC_pred))\n",
    "\n",
    "# Report\n",
    "print(classification_report(y_test_3, MLP_JC_pred))"
   ]
  },
  {
   "cell_type": "markdown",
   "metadata": {},
   "source": [
    "En este caso las conclusiones son algo más extrañas dado que esperaba que el MLP se comportara mejor que el Perceptron simple. No ha sido así como se ve, aunque los resultados son muy parejos. De nuevo, es importante recalcar el usar el balanceo que sigue mejorando la accuracy.\n",
    "Además de obtener ligeros peores resultados que el modelo previo, este modelo es menos eficiente que el anterior ya que al contar con las capas, el resultado tarda unos segundos en arrojarse mientras que el Perceptron simple es casi instantáneo."
   ]
  },
  {
   "cell_type": "markdown",
   "metadata": {},
   "source": [
    "### KNN"
   ]
  },
  {
   "cell_type": "code",
   "execution_count": 17,
   "metadata": {},
   "outputs": [
    {
     "name": "stdout",
     "output_type": "stream",
     "text": [
      "KNN accuracy with clean text column and balanced is: 0.5194585448392555\n",
      "KNN accuracy with clean text column and unbalanced is: 0.7419354838709677\n",
      "KNN accuracy with stemmed text column and balanced is: 0.5245346869712352\n",
      "KNN accuracy with stemmed text column and unbalanced is: 0.7667493796526055\n"
     ]
    }
   ],
   "source": [
    "# KNN\n",
    "\n",
    "## KNN with clean text\n",
    "\n",
    "KNN_JC = KNeighborsClassifier(n_neighbors=5)\n",
    "\n",
    "### Balanced\n",
    "KNN_JC.fit(X_train_2, y_train_2)\n",
    "KNN_JC_pred = KNN_JC.predict(X_test_2)\n",
    "KNN_JC_acc = accuracy_score(KNN_JC_pred, y_test_2)\n",
    "print('KNN accuracy with clean text column and balanced is: ' + str(KNN_JC_acc))\n",
    "\n",
    "### Unbalanced\n",
    "KNN_JC.fit(X_train_2_unbalanced, y_train_2_unbalanced)\n",
    "KNN_JC_pred_unbalanced = KNN_JC.predict(X_test_2_unbalanced)\n",
    "KNN_JC_acc_unbalanced = accuracy_score(KNN_JC_pred_unbalanced, y_test_2_unbalanced)\n",
    "print('KNN accuracy with clean text column and unbalanced is: ' + str(KNN_JC_acc_unbalanced))\n",
    "\n",
    "## KNN with stemmed text\n",
    "\n",
    "KNN_JC_2 = KNeighborsClassifier(n_neighbors=5)\n",
    "\n",
    "### Balanced\n",
    "KNN_JC_2.fit(X_train_3, y_train_3)\n",
    "KNN_JC_pred_2 = KNN_JC_2.predict(X_test_3)\n",
    "KNN_JC_acc_2 = accuracy_score(KNN_JC_pred_2, y_test_3)\n",
    "print('KNN accuracy with stemmed text column and balanced is: ' + str(KNN_JC_acc_2))\n",
    "\n",
    "### Unbalanced\n",
    "KNN_JC_2.fit(X_train_3_unbalanced, y_train_3_unbalanced)\n",
    "KNN_JC_unbalanced_pred_2 = KNN_JC_2.predict(X_test_3_unbalanced)\n",
    "KNN_JC_unbalanced_acc_2 = accuracy_score(KNN_JC_unbalanced_pred_2, y_test_3_unbalanced)\n",
    "print('KNN accuracy with stemmed text column and unbalanced is: ' + str(KNN_JC_unbalanced_acc_2))"
   ]
  },
  {
   "cell_type": "markdown",
   "metadata": {},
   "source": [
    "Este es el primer algoritmo con el que se obtienen resultados algo peores, por debajo de 0.8 de accuracy. Como se ve, los mejores resultados vienen antes de balancear el dataset. Se procede a intentar mejorar la K con el dataset sin balancear para ver si es posible mejorar los resultados.\n",
    "A continuación, se intenta obtener la mejor K posible:"
   ]
  },
  {
   "cell_type": "markdown",
   "metadata": {},
   "source": [
    "#### K optimization unbalanced"
   ]
  },
  {
   "cell_type": "code",
   "execution_count": 18,
   "metadata": {},
   "outputs": [
    {
     "data": {
      "text/plain": [
       "Text(0, 0.5, 'Accuracy')"
      ]
     },
     "execution_count": 18,
     "metadata": {},
     "output_type": "execute_result"
    },
    {
     "data": {
      "image/png": "[encoded data removed]",
      "text/plain": [
       "<Figure size 432x288 with 1 Axes>"
      ]
     },
     "metadata": {
      "needs_background": "light"
     },
     "output_type": "display_data"
    }
   ],
   "source": [
    "# K range \n",
    "k_range = range(1, 21)\n",
    "accuracy = []\n",
    "for k in k_range:\n",
    "    m = KNeighborsClassifier(k)\n",
    "    m.fit(X_train_3_unbalanced, y_train_3_unbalanced)\n",
    "    y_test_pred_2 = m.predict(X_test_3_unbalanced)\n",
    "    accuracy.append(metrics.accuracy_score(y_test_3_unbalanced, y_test_pred_2))\n",
    "plt.plot(k_range, accuracy)\n",
    "plt.xlabel('k value')\n",
    "plt.ylabel('Accuracy')"
   ]
  },
  {
   "cell_type": "markdown",
   "metadata": {},
   "source": [
    "Tal y como se aprecia, el aumento de K es positivo, por tanto se sitúa una K = 11 que mejorará bastante el clasificador siempre y cuando se use SIN balancear."
   ]
  },
  {
   "cell_type": "code",
   "execution_count": 19,
   "metadata": {},
   "outputs": [
    {
     "name": "stdout",
     "output_type": "stream",
     "text": [
      "KNN accuracy opt with clean text column and unbalanced is: 0.7617866004962779\n",
      "KNN accuracy opt with stemmed text column and unbalanced is: 0.7754342431761787\n"
     ]
    }
   ],
   "source": [
    "# KNN\n",
    "\n",
    "## KNN with clean text\n",
    "\n",
    "KNN_JC_opt = KNeighborsClassifier(n_neighbors=11)\n",
    "\n",
    "\n",
    "### Unbalanced\n",
    "KNN_JC_opt.fit(X_train_2_unbalanced, y_train_2_unbalanced)\n",
    "KNN_JC_opt_pred = KNN_JC_opt.predict(X_test_2_unbalanced)\n",
    "KNN_JC_opt_acc = accuracy_score(KNN_JC_opt_pred, y_test_2_unbalanced)\n",
    "print('KNN accuracy opt with clean text column and unbalanced is: ' + str(KNN_JC_opt_acc))\n",
    "\n",
    "## KNN with stemmed text\n",
    "\n",
    "KNN_JC_opt_2 = KNeighborsClassifier(n_neighbors=11)\n",
    "\n",
    "### Unbalanced\n",
    "KNN_JC_opt_2.fit(X_train_3_unbalanced, y_train_3_unbalanced)\n",
    "KNN_JC_opt_pred_2 = KNN_JC_opt_2.predict(X_test_3_unbalanced)\n",
    "KNN_JC_opt_acc_2 = accuracy_score(KNN_JC_opt_pred_2, y_test_3_unbalanced)\n",
    "print('KNN accuracy opt with stemmed text column and unbalanced is: ' + str(KNN_JC_opt_acc_2))"
   ]
  },
  {
   "cell_type": "markdown",
   "metadata": {},
   "source": [
    "Aún mejorando bastante el clasificador, sigue estando lejos de los resultados de los anteriores"
   ]
  },
  {
   "cell_type": "markdown",
   "metadata": {},
   "source": [
    "#### K optimization raw text"
   ]
  },
  {
   "cell_type": "code",
   "execution_count": 20,
   "metadata": {},
   "outputs": [
    {
     "data": {
      "text/plain": [
       "Text(0, 0.5, 'Accuracy')"
      ]
     },
     "execution_count": 20,
     "metadata": {},
     "output_type": "execute_result"
    },
    {
     "data": {
      "image/png": "[encoded data removed]",
      "text/plain": [
       "<Figure size 432x288 with 1 Axes>"
      ]
     },
     "metadata": {
      "needs_background": "light"
     },
     "output_type": "display_data"
    }
   ],
   "source": [
    "# K range \n",
    "k_range = range(1, 40)\n",
    "accuracy = []\n",
    "for k in k_range:\n",
    "    m = KNeighborsClassifier(k)\n",
    "    m.fit(X_train_raw, y_train_raw)\n",
    "    y_test_pred_2 = m.predict(X_test_raw)\n",
    "    accuracy.append(metrics.accuracy_score(y_test_raw, y_test_pred_2))\n",
    "plt.plot(k_range, accuracy)\n",
    "plt.xlabel('k value')\n",
    "plt.ylabel('Accuracy')"
   ]
  },
  {
   "cell_type": "markdown",
   "metadata": {},
   "source": [
    "En este caso, viendo que el dataset sin balancear y con menos limpieza tenía mejores resultados, se ha estudiado sacar el mejor clasificador para texto en \"raw\" sin modificar nada ni balancear, como se ve, la K óptima es K = 18, con alrededor de 0,76 de precisión"
   ]
  },
  {
   "cell_type": "code",
   "execution_count": 21,
   "metadata": {},
   "outputs": [
    {
     "name": "stdout",
     "output_type": "stream",
     "text": [
      "KNN accuracy opt with clean text column and balanced is: 0.7692307692307693\n"
     ]
    }
   ],
   "source": [
    "# KNN\n",
    "\n",
    "## KNN with clean text\n",
    "\n",
    "KNN_JC_opt = KNeighborsClassifier(n_neighbors=18)\n",
    "\n",
    "### Unbalanced and raw tweet\n",
    "KNN_JC_opt.fit(X_train_raw, y_train_raw)\n",
    "KNN_JC_opt_pred = KNN_JC_opt.predict(X_test_raw)\n",
    "KNN_JC_opt_acc = accuracy_score(KNN_JC_opt_pred, y_test_raw)\n",
    "print('KNN accuracy opt with clean text column and balanced is: ' + str(KNN_JC_opt_acc))\n",
    "\n"
   ]
  },
  {
   "cell_type": "code",
   "execution_count": 22,
   "metadata": {},
   "outputs": [
    {
     "name": "stdout",
     "output_type": "stream",
     "text": [
      "[[ 32 183]\n",
      " [  3 588]]\n",
      "              precision    recall  f1-score   support\n",
      "\n",
      "          -1       0.91      0.15      0.26       215\n",
      "           1       0.76      0.99      0.86       591\n",
      "\n",
      "    accuracy                           0.77       806\n",
      "   macro avg       0.84      0.57      0.56       806\n",
      "weighted avg       0.80      0.77      0.70       806\n",
      "\n"
     ]
    }
   ],
   "source": [
    "# Confusion matrix\n",
    "print(metrics.confusion_matrix(y_test_raw, KNN_JC_opt_pred ))\n",
    "\n",
    "# Report\n",
    "print(classification_report(y_test_raw, KNN_JC_opt_pred))"
   ]
  },
  {
   "cell_type": "markdown",
   "metadata": {},
   "source": [
    "#  Conclusiones dataset emotions"
   ]
  },
  {
   "cell_type": "markdown",
   "metadata": {},
   "source": [
    "* La limpieza del texto no es lo importante que pueda parecer para estos modelos. En la mayoría de los casos probados las diferencias son mínimas entre textos con la columna 'clean' (sin arrobas, hashtaghs y demás) vs textos con columna 'stem'.\n",
    "* El balanceo del dataset sí es muy importante. Este paso se encuentra en el uso de SMOTE, justo después de dividir el dataset en train y test. Esto hace que el dataset tenga el mismo número de emociones = 1.0 y emociones = -1.0, es decir, tweets con emociones positivas y negativas por igual para que pueda ser entrenado 50%-50% con los dos tipos de resultados (y no entrenar uno mejor que otro).\n",
    "* En cuanto a los algoritmos probados, KNN no ha arrojado tan buenos resultados, pero hay que tener en cuenta que sería un buen clasificador (casi 0,8) teniendo en cuenta que no haría falta hacer preprocesamiento de texto.\n",
    "* Mientras que los demás podrían ser óptimos (logistic regression y  los de redes neuronales). Los mejores por resultado y eficiencia han sido el perceptron simple y logistic regression."
   ]
  }
 ],
 "metadata": {
  "kernelspec": {
   "display_name": "Python 3",
   "language": "python",
   "name": "python3"
  },
  "language_info": {
   "codemirror_mode": {
    "name": "ipython",
    "version": 3
   },
   "file_extension": ".py",
   "mimetype": "text/x-python",
   "name": "python",
   "nbconvert_exporter": "python",
   "pygments_lexer": "ipython3",
   "version": "3.7.4"
  }
 },
 "nbformat": 4,
 "nbformat_minor": 2
}
