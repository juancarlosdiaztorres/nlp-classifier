{
 "cells": [
  {
   "cell_type": "markdown",
   "metadata": {},
   "source": [
    "# Training models JC 5G"
   ]
  },
  {
   "cell_type": "markdown",
   "metadata": {},
   "source": [
    "# Packages and dataset imports"
   ]
  },
  {
   "cell_type": "code",
   "execution_count": 1,
   "metadata": {},
   "outputs": [],
   "source": [
    "# General import and load data\n",
    "import pandas as pd\n",
    "import numpy as np\n",
    "\n",
    "from pandas import Series, DataFrame\n",
    "\n",
    "# Training and test spliting\n",
    "from sklearn.model_selection import train_test_split\n",
    "from sklearn import preprocessing\n",
    "\n",
    "# Text splitting\n",
    "from sklearn.metrics import classification_report\n",
    "from sklearn import metrics\n",
    "from sklearn.model_selection import train_test_split \n",
    "\n",
    "# NLP\n",
    "from sklearn.feature_extraction.text import CountVectorizer\n",
    "from sklearn.feature_extraction.text import TfidfVectorizer\n",
    "\n",
    "# Optimization\n",
    "from sklearn.model_selection import GridSearchCV\n",
    "from sklearn.preprocessing import StandardScaler\n",
    "\n",
    "# Visualisation\n",
    "import seaborn as sns\n",
    "import matplotlib.pyplot as plt\n",
    "sns.set(color_codes=True)"
   ]
  },
  {
   "cell_type": "code",
   "execution_count": 2,
   "metadata": {},
   "outputs": [
    {
     "data": {
      "text/html": [
       "<div>\n",
       "<style scoped>\n",
       "    .dataframe tbody tr th:only-of-type {\n",
       "        vertical-align: middle;\n",
       "    }\n",
       "\n",
       "    .dataframe tbody tr th {\n",
       "        vertical-align: top;\n",
       "    }\n",
       "\n",
       "    .dataframe thead th {\n",
       "        text-align: right;\n",
       "    }\n",
       "</style>\n",
       "<table border=\"1\" class=\"dataframe\">\n",
       "  <thead>\n",
       "    <tr style=\"text-align: right;\">\n",
       "      <th></th>\n",
       "      <th>Datetime</th>\n",
       "      <th>tweet</th>\n",
       "      <th>clean</th>\n",
       "      <th>Tweet_len</th>\n",
       "      <th>hashtags</th>\n",
       "      <th>n_htags</th>\n",
       "      <th>word_count</th>\n",
       "      <th>ev_emoji</th>\n",
       "      <th>stopwords</th>\n",
       "      <th>stem</th>\n",
       "      <th>emotion</th>\n",
       "      <th>polarity</th>\n",
       "    </tr>\n",
       "    <tr>\n",
       "      <th>id</th>\n",
       "      <th></th>\n",
       "      <th></th>\n",
       "      <th></th>\n",
       "      <th></th>\n",
       "      <th></th>\n",
       "      <th></th>\n",
       "      <th></th>\n",
       "      <th></th>\n",
       "      <th></th>\n",
       "      <th></th>\n",
       "      <th></th>\n",
       "      <th></th>\n",
       "    </tr>\n",
       "  </thead>\n",
       "  <tbody>\n",
       "    <tr>\n",
       "      <td>1,25897E+18</td>\n",
       "      <td>2020-05-09 3:43:57</td>\n",
       "      <td>RT @skitvomfeinsten: +++++++ GOD AlWAYS WIN ++...</td>\n",
       "      <td>rt  skitvomfeinsten          god always win   ...</td>\n",
       "      <td>140</td>\n",
       "      <td>{'JE…', '5G', 'WWG1WGA', 'Tower', 'WORLDWIDE',...</td>\n",
       "      <td>6</td>\n",
       "      <td>20</td>\n",
       "      <td>0</td>\n",
       "      <td>rt skitvomfeinsten god always win birds discon...</td>\n",
       "      <td>rt skitvomfeinsten god alway win bird disconne...</td>\n",
       "      <td>0.800000</td>\n",
       "      <td>1</td>\n",
       "    </tr>\n",
       "    <tr>\n",
       "      <td>1258470733879148547</td>\n",
       "      <td>2020-05-07 18:56:18</td>\n",
       "      <td>RT @HalladayIn: @outofcontroljb @kaitlancollin...</td>\n",
       "      <td>rt  halladayin   outofcontroljb  kaitlancollin...</td>\n",
       "      <td>140</td>\n",
       "      <td>set()</td>\n",
       "      <td>0</td>\n",
       "      <td>21</td>\n",
       "      <td>0</td>\n",
       "      <td>rt halladayin outofcontroljb kaitlancollins co...</td>\n",
       "      <td>rt halladayin outofcontroljb kaitlancollin cov...</td>\n",
       "      <td>-0.090909</td>\n",
       "      <td>-1</td>\n",
       "    </tr>\n",
       "    <tr>\n",
       "      <td>1258470843597889537</td>\n",
       "      <td>2020-05-07 18:56:45</td>\n",
       "      <td>RT @matthaig1: Hi conspiracy theorists! A few ...</td>\n",
       "      <td>rt  matthaig1  hi conspiracy theorists  a few ...</td>\n",
       "      <td>140</td>\n",
       "      <td>set()</td>\n",
       "      <td>0</td>\n",
       "      <td>27</td>\n",
       "      <td>0</td>\n",
       "      <td>rt matthaig1 hi conspiracy theorists q 5g rela...</td>\n",
       "      <td>rt matthaig 1 hi conspiraci theorist q 5g rela...</td>\n",
       "      <td>-0.100000</td>\n",
       "      <td>-1</td>\n",
       "    </tr>\n",
       "    <tr>\n",
       "      <td>1258470857325686785</td>\n",
       "      <td>2020-05-07 18:56:48</td>\n",
       "      <td>RT @panos941: People beginning to lose it 😬&amp;gt...</td>\n",
       "      <td>rt  panos941  people beginning to lose it   gt...</td>\n",
       "      <td>143</td>\n",
       "      <td>set()</td>\n",
       "      <td>0</td>\n",
       "      <td>24</td>\n",
       "      <td>0</td>\n",
       "      <td>rt panos941 people beginning lose gt almost 80...</td>\n",
       "      <td>rt pano 941 peopl begin lose gt almost 80 mobi...</td>\n",
       "      <td>-0.226852</td>\n",
       "      <td>-1</td>\n",
       "    </tr>\n",
       "    <tr>\n",
       "      <td>1258470865286635522</td>\n",
       "      <td>2020-05-07 18:56:50</td>\n",
       "      <td>RT @ZaidZamanHamid: This is one of the most im...</td>\n",
       "      <td>rt  zaidzamanhamid  this is one of the most im...</td>\n",
       "      <td>139</td>\n",
       "      <td>{'Covid_19'}</td>\n",
       "      <td>1</td>\n",
       "      <td>22</td>\n",
       "      <td>0</td>\n",
       "      <td>rt zaidzamanhamid important reasons launched c...</td>\n",
       "      <td>rt zaidzamanhamid thi one import reason whi la...</td>\n",
       "      <td>0.450000</td>\n",
       "      <td>1</td>\n",
       "    </tr>\n",
       "  </tbody>\n",
       "</table>\n",
       "</div>"
      ],
      "text/plain": [
       "                                Datetime  \\\n",
       "id                                         \n",
       "1,25897E+18           2020-05-09 3:43:57   \n",
       "1258470733879148547  2020-05-07 18:56:18   \n",
       "1258470843597889537  2020-05-07 18:56:45   \n",
       "1258470857325686785  2020-05-07 18:56:48   \n",
       "1258470865286635522  2020-05-07 18:56:50   \n",
       "\n",
       "                                                                 tweet  \\\n",
       "id                                                                       \n",
       "1,25897E+18          RT @skitvomfeinsten: +++++++ GOD AlWAYS WIN ++...   \n",
       "1258470733879148547  RT @HalladayIn: @outofcontroljb @kaitlancollin...   \n",
       "1258470843597889537  RT @matthaig1: Hi conspiracy theorists! A few ...   \n",
       "1258470857325686785  RT @panos941: People beginning to lose it 😬&gt...   \n",
       "1258470865286635522  RT @ZaidZamanHamid: This is one of the most im...   \n",
       "\n",
       "                                                                 clean  \\\n",
       "id                                                                       \n",
       "1,25897E+18          rt  skitvomfeinsten          god always win   ...   \n",
       "1258470733879148547  rt  halladayin   outofcontroljb  kaitlancollin...   \n",
       "1258470843597889537  rt  matthaig1  hi conspiracy theorists  a few ...   \n",
       "1258470857325686785  rt  panos941  people beginning to lose it   gt...   \n",
       "1258470865286635522  rt  zaidzamanhamid  this is one of the most im...   \n",
       "\n",
       "                     Tweet_len  \\\n",
       "id                               \n",
       "1,25897E+18                140   \n",
       "1258470733879148547        140   \n",
       "1258470843597889537        140   \n",
       "1258470857325686785        143   \n",
       "1258470865286635522        139   \n",
       "\n",
       "                                                              hashtags  \\\n",
       "id                                                                       \n",
       "1,25897E+18          {'JE…', '5G', 'WWG1WGA', 'Tower', 'WORLDWIDE',...   \n",
       "1258470733879148547                                              set()   \n",
       "1258470843597889537                                              set()   \n",
       "1258470857325686785                                              set()   \n",
       "1258470865286635522                                       {'Covid_19'}   \n",
       "\n",
       "                     n_htags  word_count  ev_emoji  \\\n",
       "id                                                   \n",
       "1,25897E+18                6          20         0   \n",
       "1258470733879148547        0          21         0   \n",
       "1258470843597889537        0          27         0   \n",
       "1258470857325686785        0          24         0   \n",
       "1258470865286635522        1          22         0   \n",
       "\n",
       "                                                             stopwords  \\\n",
       "id                                                                       \n",
       "1,25897E+18          rt skitvomfeinsten god always win birds discon...   \n",
       "1258470733879148547  rt halladayin outofcontroljb kaitlancollins co...   \n",
       "1258470843597889537  rt matthaig1 hi conspiracy theorists q 5g rela...   \n",
       "1258470857325686785  rt panos941 people beginning lose gt almost 80...   \n",
       "1258470865286635522  rt zaidzamanhamid important reasons launched c...   \n",
       "\n",
       "                                                                  stem  \\\n",
       "id                                                                       \n",
       "1,25897E+18          rt skitvomfeinsten god alway win bird disconne...   \n",
       "1258470733879148547  rt halladayin outofcontroljb kaitlancollin cov...   \n",
       "1258470843597889537  rt matthaig 1 hi conspiraci theorist q 5g rela...   \n",
       "1258470857325686785  rt pano 941 peopl begin lose gt almost 80 mobi...   \n",
       "1258470865286635522  rt zaidzamanhamid thi one import reason whi la...   \n",
       "\n",
       "                      emotion  polarity  \n",
       "id                                       \n",
       "1,25897E+18          0.800000         1  \n",
       "1258470733879148547 -0.090909        -1  \n",
       "1258470843597889537 -0.100000        -1  \n",
       "1258470857325686785 -0.226852        -1  \n",
       "1258470865286635522  0.450000         1  "
      ]
     },
     "execution_count": 2,
     "metadata": {},
     "output_type": "execute_result"
    }
   ],
   "source": [
    "# Import clean dataset \n",
    "df_5g_clean = pd.read_csv('dataset-5g-clean.csv')\n",
    "# Show clean dataset \n",
    "df_5g_clean = df_5g_clean.set_index('id')\n",
    "df_5g_clean.head()"
   ]
  },
  {
   "cell_type": "code",
   "execution_count": 3,
   "metadata": {},
   "outputs": [
    {
     "data": {
      "text/html": [
       "<div>\n",
       "<style scoped>\n",
       "    .dataframe tbody tr th:only-of-type {\n",
       "        vertical-align: middle;\n",
       "    }\n",
       "\n",
       "    .dataframe tbody tr th {\n",
       "        vertical-align: top;\n",
       "    }\n",
       "\n",
       "    .dataframe thead th {\n",
       "        text-align: right;\n",
       "    }\n",
       "</style>\n",
       "<table border=\"1\" class=\"dataframe\">\n",
       "  <thead>\n",
       "    <tr style=\"text-align: right;\">\n",
       "      <th></th>\n",
       "      <th>Datetime</th>\n",
       "      <th>tweet</th>\n",
       "      <th>clean</th>\n",
       "      <th>Tweet_len</th>\n",
       "      <th>hashtags</th>\n",
       "      <th>n_htags</th>\n",
       "      <th>word_count</th>\n",
       "      <th>ev_emoji</th>\n",
       "      <th>stopwords</th>\n",
       "      <th>stem</th>\n",
       "      <th>emotion</th>\n",
       "      <th>polarity</th>\n",
       "    </tr>\n",
       "    <tr>\n",
       "      <th>id</th>\n",
       "      <th></th>\n",
       "      <th></th>\n",
       "      <th></th>\n",
       "      <th></th>\n",
       "      <th></th>\n",
       "      <th></th>\n",
       "      <th></th>\n",
       "      <th></th>\n",
       "      <th></th>\n",
       "      <th></th>\n",
       "      <th></th>\n",
       "      <th></th>\n",
       "    </tr>\n",
       "  </thead>\n",
       "  <tbody>\n",
       "    <tr>\n",
       "      <td>1,25897E+18</td>\n",
       "      <td>2020-05-09 3:43:57</td>\n",
       "      <td>RT @skitvomfeinsten: +++++++ GOD AlWAYS WIN ++...</td>\n",
       "      <td>rt  skitvomfeinsten          god always win   ...</td>\n",
       "      <td>140</td>\n",
       "      <td>{'JE…', '5G', 'WWG1WGA', 'Tower', 'WORLDWIDE',...</td>\n",
       "      <td>6</td>\n",
       "      <td>20</td>\n",
       "      <td>0</td>\n",
       "      <td>rt skitvomfeinsten god always win birds discon...</td>\n",
       "      <td>rt skitvomfeinsten god alway win bird disconne...</td>\n",
       "      <td>0.800000</td>\n",
       "      <td>1</td>\n",
       "    </tr>\n",
       "    <tr>\n",
       "      <td>1258470733879148547</td>\n",
       "      <td>2020-05-07 18:56:18</td>\n",
       "      <td>RT @HalladayIn: @outofcontroljb @kaitlancollin...</td>\n",
       "      <td>rt  halladayin   outofcontroljb  kaitlancollin...</td>\n",
       "      <td>140</td>\n",
       "      <td>set()</td>\n",
       "      <td>0</td>\n",
       "      <td>21</td>\n",
       "      <td>0</td>\n",
       "      <td>rt halladayin outofcontroljb kaitlancollins co...</td>\n",
       "      <td>rt halladayin outofcontroljb kaitlancollin cov...</td>\n",
       "      <td>-0.090909</td>\n",
       "      <td>-1</td>\n",
       "    </tr>\n",
       "    <tr>\n",
       "      <td>1258470843597889537</td>\n",
       "      <td>2020-05-07 18:56:45</td>\n",
       "      <td>RT @matthaig1: Hi conspiracy theorists! A few ...</td>\n",
       "      <td>rt  matthaig1  hi conspiracy theorists  a few ...</td>\n",
       "      <td>140</td>\n",
       "      <td>set()</td>\n",
       "      <td>0</td>\n",
       "      <td>27</td>\n",
       "      <td>0</td>\n",
       "      <td>rt matthaig1 hi conspiracy theorists q 5g rela...</td>\n",
       "      <td>rt matthaig 1 hi conspiraci theorist q 5g rela...</td>\n",
       "      <td>-0.100000</td>\n",
       "      <td>-1</td>\n",
       "    </tr>\n",
       "    <tr>\n",
       "      <td>1258470857325686785</td>\n",
       "      <td>2020-05-07 18:56:48</td>\n",
       "      <td>RT @panos941: People beginning to lose it 😬&amp;gt...</td>\n",
       "      <td>rt  panos941  people beginning to lose it   gt...</td>\n",
       "      <td>143</td>\n",
       "      <td>set()</td>\n",
       "      <td>0</td>\n",
       "      <td>24</td>\n",
       "      <td>0</td>\n",
       "      <td>rt panos941 people beginning lose gt almost 80...</td>\n",
       "      <td>rt pano 941 peopl begin lose gt almost 80 mobi...</td>\n",
       "      <td>-0.226852</td>\n",
       "      <td>-1</td>\n",
       "    </tr>\n",
       "    <tr>\n",
       "      <td>1258470865286635522</td>\n",
       "      <td>2020-05-07 18:56:50</td>\n",
       "      <td>RT @ZaidZamanHamid: This is one of the most im...</td>\n",
       "      <td>rt  zaidzamanhamid  this is one of the most im...</td>\n",
       "      <td>139</td>\n",
       "      <td>{'Covid_19'}</td>\n",
       "      <td>1</td>\n",
       "      <td>22</td>\n",
       "      <td>0</td>\n",
       "      <td>rt zaidzamanhamid important reasons launched c...</td>\n",
       "      <td>rt zaidzamanhamid thi one import reason whi la...</td>\n",
       "      <td>0.450000</td>\n",
       "      <td>1</td>\n",
       "    </tr>\n",
       "  </tbody>\n",
       "</table>\n",
       "</div>"
      ],
      "text/plain": [
       "                                Datetime  \\\n",
       "id                                         \n",
       "1,25897E+18           2020-05-09 3:43:57   \n",
       "1258470733879148547  2020-05-07 18:56:18   \n",
       "1258470843597889537  2020-05-07 18:56:45   \n",
       "1258470857325686785  2020-05-07 18:56:48   \n",
       "1258470865286635522  2020-05-07 18:56:50   \n",
       "\n",
       "                                                                 tweet  \\\n",
       "id                                                                       \n",
       "1,25897E+18          RT @skitvomfeinsten: +++++++ GOD AlWAYS WIN ++...   \n",
       "1258470733879148547  RT @HalladayIn: @outofcontroljb @kaitlancollin...   \n",
       "1258470843597889537  RT @matthaig1: Hi conspiracy theorists! A few ...   \n",
       "1258470857325686785  RT @panos941: People beginning to lose it 😬&gt...   \n",
       "1258470865286635522  RT @ZaidZamanHamid: This is one of the most im...   \n",
       "\n",
       "                                                                 clean  \\\n",
       "id                                                                       \n",
       "1,25897E+18          rt  skitvomfeinsten          god always win   ...   \n",
       "1258470733879148547  rt  halladayin   outofcontroljb  kaitlancollin...   \n",
       "1258470843597889537  rt  matthaig1  hi conspiracy theorists  a few ...   \n",
       "1258470857325686785  rt  panos941  people beginning to lose it   gt...   \n",
       "1258470865286635522  rt  zaidzamanhamid  this is one of the most im...   \n",
       "\n",
       "                     Tweet_len  \\\n",
       "id                               \n",
       "1,25897E+18                140   \n",
       "1258470733879148547        140   \n",
       "1258470843597889537        140   \n",
       "1258470857325686785        143   \n",
       "1258470865286635522        139   \n",
       "\n",
       "                                                              hashtags  \\\n",
       "id                                                                       \n",
       "1,25897E+18          {'JE…', '5G', 'WWG1WGA', 'Tower', 'WORLDWIDE',...   \n",
       "1258470733879148547                                              set()   \n",
       "1258470843597889537                                              set()   \n",
       "1258470857325686785                                              set()   \n",
       "1258470865286635522                                       {'Covid_19'}   \n",
       "\n",
       "                     n_htags  word_count  ev_emoji  \\\n",
       "id                                                   \n",
       "1,25897E+18                6          20         0   \n",
       "1258470733879148547        0          21         0   \n",
       "1258470843597889537        0          27         0   \n",
       "1258470857325686785        0          24         0   \n",
       "1258470865286635522        1          22         0   \n",
       "\n",
       "                                                             stopwords  \\\n",
       "id                                                                       \n",
       "1,25897E+18          rt skitvomfeinsten god always win birds discon...   \n",
       "1258470733879148547  rt halladayin outofcontroljb kaitlancollins co...   \n",
       "1258470843597889537  rt matthaig1 hi conspiracy theorists q 5g rela...   \n",
       "1258470857325686785  rt panos941 people beginning lose gt almost 80...   \n",
       "1258470865286635522  rt zaidzamanhamid important reasons launched c...   \n",
       "\n",
       "                                                                  stem  \\\n",
       "id                                                                       \n",
       "1,25897E+18          rt skitvomfeinsten god alway win bird disconne...   \n",
       "1258470733879148547  rt halladayin outofcontroljb kaitlancollin cov...   \n",
       "1258470843597889537  rt matthaig 1 hi conspiraci theorist q 5g rela...   \n",
       "1258470857325686785  rt pano 941 peopl begin lose gt almost 80 mobi...   \n",
       "1258470865286635522  rt zaidzamanhamid thi one import reason whi la...   \n",
       "\n",
       "                      emotion  polarity  \n",
       "id                                       \n",
       "1,25897E+18          0.800000         1  \n",
       "1258470733879148547 -0.090909        -1  \n",
       "1258470843597889537 -0.100000        -1  \n",
       "1258470857325686785 -0.226852        -1  \n",
       "1258470865286635522  0.450000         1  "
      ]
     },
     "execution_count": 3,
     "metadata": {},
     "output_type": "execute_result"
    }
   ],
   "source": [
    "# Import clean dataset \n",
    "df_5g_clean = pd.read_csv('Equipo/CHALLENGE_2/datasetClean/dataset_5g_clean.csv')\n",
    "# Show clean dataset \n",
    "df_5g_clean = df_5g_clean.set_index('id')\n",
    "df_5g_clean.head()"
   ]
  },
  {
   "cell_type": "code",
   "execution_count": 4,
   "metadata": {
    "scrolled": true
   },
   "outputs": [
    {
     "data": {
      "text/html": [
       "<div>\n",
       "<style scoped>\n",
       "    .dataframe tbody tr th:only-of-type {\n",
       "        vertical-align: middle;\n",
       "    }\n",
       "\n",
       "    .dataframe tbody tr th {\n",
       "        vertical-align: top;\n",
       "    }\n",
       "\n",
       "    .dataframe thead th {\n",
       "        text-align: right;\n",
       "    }\n",
       "</style>\n",
       "<table border=\"1\" class=\"dataframe\">\n",
       "  <thead>\n",
       "    <tr style=\"text-align: right;\">\n",
       "      <th></th>\n",
       "      <th>Datetime</th>\n",
       "      <th>tweet</th>\n",
       "      <th>clean</th>\n",
       "      <th>Tweet_len</th>\n",
       "      <th>hashtags</th>\n",
       "      <th>n_htags</th>\n",
       "      <th>word_count</th>\n",
       "      <th>ev_emoji</th>\n",
       "      <th>stopwords</th>\n",
       "      <th>stem</th>\n",
       "      <th>emotion</th>\n",
       "      <th>polarity</th>\n",
       "    </tr>\n",
       "    <tr>\n",
       "      <th>id</th>\n",
       "      <th></th>\n",
       "      <th></th>\n",
       "      <th></th>\n",
       "      <th></th>\n",
       "      <th></th>\n",
       "      <th></th>\n",
       "      <th></th>\n",
       "      <th></th>\n",
       "      <th></th>\n",
       "      <th></th>\n",
       "      <th></th>\n",
       "      <th></th>\n",
       "    </tr>\n",
       "  </thead>\n",
       "  <tbody>\n",
       "  </tbody>\n",
       "</table>\n",
       "</div>"
      ],
      "text/plain": [
       "Empty DataFrame\n",
       "Columns: [Datetime, tweet, clean, Tweet_len, hashtags, n_htags, word_count, ev_emoji, stopwords, stem, emotion, polarity]\n",
       "Index: []"
      ]
     },
     "execution_count": 4,
     "metadata": {},
     "output_type": "execute_result"
    }
   ],
   "source": [
    "# Check previous NaN in text\n",
    "df_5g_clean[df_5g_clean.stopwords.isna()]\n"
   ]
  },
  {
   "cell_type": "markdown",
   "metadata": {},
   "source": [
    "## Transformations"
   ]
  },
  {
   "cell_type": "code",
   "execution_count": 5,
   "metadata": {},
   "outputs": [
    {
     "data": {
      "text/html": [
       "<div>\n",
       "<style scoped>\n",
       "    .dataframe tbody tr th:only-of-type {\n",
       "        vertical-align: middle;\n",
       "    }\n",
       "\n",
       "    .dataframe tbody tr th {\n",
       "        vertical-align: top;\n",
       "    }\n",
       "\n",
       "    .dataframe thead th {\n",
       "        text-align: right;\n",
       "    }\n",
       "</style>\n",
       "<table border=\"1\" class=\"dataframe\">\n",
       "  <thead>\n",
       "    <tr style=\"text-align: right;\">\n",
       "      <th></th>\n",
       "      <th>tweet</th>\n",
       "      <th>preproc_text</th>\n",
       "      <th>word_count</th>\n",
       "      <th>ev_emoji</th>\n",
       "      <th>clean_text</th>\n",
       "      <th>stem</th>\n",
       "      <th>emotion</th>\n",
       "      <th>polarity</th>\n",
       "    </tr>\n",
       "    <tr>\n",
       "      <th>id</th>\n",
       "      <th></th>\n",
       "      <th></th>\n",
       "      <th></th>\n",
       "      <th></th>\n",
       "      <th></th>\n",
       "      <th></th>\n",
       "      <th></th>\n",
       "      <th></th>\n",
       "    </tr>\n",
       "  </thead>\n",
       "  <tbody>\n",
       "    <tr>\n",
       "      <td>1,25897E+18</td>\n",
       "      <td>RT @skitvomfeinsten: +++++++ GOD AlWAYS WIN ++...</td>\n",
       "      <td>rt  skitvomfeinsten          god always win   ...</td>\n",
       "      <td>20</td>\n",
       "      <td>0</td>\n",
       "      <td>rt skitvomfeinsten god always win birds discon...</td>\n",
       "      <td>rt skitvomfeinsten god alway win bird disconne...</td>\n",
       "      <td>0.800000</td>\n",
       "      <td>1</td>\n",
       "    </tr>\n",
       "    <tr>\n",
       "      <td>1258470733879148547</td>\n",
       "      <td>RT @HalladayIn: @outofcontroljb @kaitlancollin...</td>\n",
       "      <td>rt  halladayin   outofcontroljb  kaitlancollin...</td>\n",
       "      <td>21</td>\n",
       "      <td>0</td>\n",
       "      <td>rt halladayin outofcontroljb kaitlancollins co...</td>\n",
       "      <td>rt halladayin outofcontroljb kaitlancollin cov...</td>\n",
       "      <td>-0.090909</td>\n",
       "      <td>-1</td>\n",
       "    </tr>\n",
       "    <tr>\n",
       "      <td>1258470843597889537</td>\n",
       "      <td>RT @matthaig1: Hi conspiracy theorists! A few ...</td>\n",
       "      <td>rt  matthaig1  hi conspiracy theorists  a few ...</td>\n",
       "      <td>27</td>\n",
       "      <td>0</td>\n",
       "      <td>rt matthaig1 hi conspiracy theorists q 5g rela...</td>\n",
       "      <td>rt matthaig 1 hi conspiraci theorist q 5g rela...</td>\n",
       "      <td>-0.100000</td>\n",
       "      <td>-1</td>\n",
       "    </tr>\n",
       "    <tr>\n",
       "      <td>1258470857325686785</td>\n",
       "      <td>RT @panos941: People beginning to lose it 😬&amp;gt...</td>\n",
       "      <td>rt  panos941  people beginning to lose it   gt...</td>\n",
       "      <td>24</td>\n",
       "      <td>0</td>\n",
       "      <td>rt panos941 people beginning lose gt almost 80...</td>\n",
       "      <td>rt pano 941 peopl begin lose gt almost 80 mobi...</td>\n",
       "      <td>-0.226852</td>\n",
       "      <td>-1</td>\n",
       "    </tr>\n",
       "    <tr>\n",
       "      <td>1258470865286635522</td>\n",
       "      <td>RT @ZaidZamanHamid: This is one of the most im...</td>\n",
       "      <td>rt  zaidzamanhamid  this is one of the most im...</td>\n",
       "      <td>22</td>\n",
       "      <td>0</td>\n",
       "      <td>rt zaidzamanhamid important reasons launched c...</td>\n",
       "      <td>rt zaidzamanhamid thi one import reason whi la...</td>\n",
       "      <td>0.450000</td>\n",
       "      <td>1</td>\n",
       "    </tr>\n",
       "  </tbody>\n",
       "</table>\n",
       "</div>"
      ],
      "text/plain": [
       "                                                                 tweet  \\\n",
       "id                                                                       \n",
       "1,25897E+18          RT @skitvomfeinsten: +++++++ GOD AlWAYS WIN ++...   \n",
       "1258470733879148547  RT @HalladayIn: @outofcontroljb @kaitlancollin...   \n",
       "1258470843597889537  RT @matthaig1: Hi conspiracy theorists! A few ...   \n",
       "1258470857325686785  RT @panos941: People beginning to lose it 😬&gt...   \n",
       "1258470865286635522  RT @ZaidZamanHamid: This is one of the most im...   \n",
       "\n",
       "                                                          preproc_text  \\\n",
       "id                                                                       \n",
       "1,25897E+18          rt  skitvomfeinsten          god always win   ...   \n",
       "1258470733879148547  rt  halladayin   outofcontroljb  kaitlancollin...   \n",
       "1258470843597889537  rt  matthaig1  hi conspiracy theorists  a few ...   \n",
       "1258470857325686785  rt  panos941  people beginning to lose it   gt...   \n",
       "1258470865286635522  rt  zaidzamanhamid  this is one of the most im...   \n",
       "\n",
       "                     word_count  ev_emoji  \\\n",
       "id                                          \n",
       "1,25897E+18                  20         0   \n",
       "1258470733879148547          21         0   \n",
       "1258470843597889537          27         0   \n",
       "1258470857325686785          24         0   \n",
       "1258470865286635522          22         0   \n",
       "\n",
       "                                                            clean_text  \\\n",
       "id                                                                       \n",
       "1,25897E+18          rt skitvomfeinsten god always win birds discon...   \n",
       "1258470733879148547  rt halladayin outofcontroljb kaitlancollins co...   \n",
       "1258470843597889537  rt matthaig1 hi conspiracy theorists q 5g rela...   \n",
       "1258470857325686785  rt panos941 people beginning lose gt almost 80...   \n",
       "1258470865286635522  rt zaidzamanhamid important reasons launched c...   \n",
       "\n",
       "                                                                  stem  \\\n",
       "id                                                                       \n",
       "1,25897E+18          rt skitvomfeinsten god alway win bird disconne...   \n",
       "1258470733879148547  rt halladayin outofcontroljb kaitlancollin cov...   \n",
       "1258470843597889537  rt matthaig 1 hi conspiraci theorist q 5g rela...   \n",
       "1258470857325686785  rt pano 941 peopl begin lose gt almost 80 mobi...   \n",
       "1258470865286635522  rt zaidzamanhamid thi one import reason whi la...   \n",
       "\n",
       "                      emotion  polarity  \n",
       "id                                       \n",
       "1,25897E+18          0.800000         1  \n",
       "1258470733879148547 -0.090909        -1  \n",
       "1258470843597889537 -0.100000        -1  \n",
       "1258470857325686785 -0.226852        -1  \n",
       "1258470865286635522  0.450000         1  "
      ]
     },
     "execution_count": 5,
     "metadata": {},
     "output_type": "execute_result"
    }
   ],
   "source": [
    "# Delete first column and select proper columns \n",
    "df_5g_clean.columns = ['date','tweet', 'preproc_text','length','hashtags','n_htags','word_count','ev_emoji','clean_text','stem','emotion','polarity']\n",
    "df_5g_clean.drop(['date','length','hashtags','n_htags',], axis=1, inplace=True)\n",
    "df_5g_clean.head()"
   ]
  },
  {
   "cell_type": "code",
   "execution_count": 6,
   "metadata": {},
   "outputs": [],
   "source": [
    "###########\n",
    "## Apply count vectorizer to 2 dfs.\n",
    "##   - The first one has polarity with preproc_text\n",
    "##   - The second works with polarity and both clean_text and stem\n",
    "###########\n",
    "\n",
    "# Count Vectorizer\n",
    "count_vectorizer = CountVectorizer()\n",
    "\n",
    "# Count Vectorizer with preproc_tex). (Extra vars to analyze the effect of text cleaning)\n",
    "counts_2 = count_vectorizer.fit_transform(df_5g_clean['preproc_text'].values)\n",
    "targets_2 = df_5g_clean['polarity'].values\n",
    "\n",
    "# Count Vectorizer with clean_text with polarity [-1 or 1] (final step of cleaning text)\n",
    "counts_3 = count_vectorizer.fit_transform(df_5g_clean['stem'].values)\n",
    "targets_3 = df_5g_clean['polarity'].values\n",
    "\n"
   ]
  },
  {
   "cell_type": "markdown",
   "metadata": {},
   "source": [
    "## Splitting and creating X and Y\n"
   ]
  },
  {
   "cell_type": "code",
   "execution_count": 7,
   "metadata": {},
   "outputs": [],
   "source": [
    "# Create variables for both stem and not stem without SMOTE\n",
    "X_train_2_unbalanced, X_test_2_unbalanced, y_train_2_unbalanced, y_test_2_unbalanced = train_test_split(counts_2, targets_2, test_size=0.25, random_state=33)\n",
    "X_train_3_unbalanced, X_test_3_unbalanced, y_train_3_unbalanced, y_test_3_unbalanced = train_test_split(counts_3, targets_3, test_size=0.25, random_state=33)"
   ]
  },
  {
   "cell_type": "markdown",
   "metadata": {},
   "source": [
    "##  Using SMOTE"
   ]
  },
  {
   "cell_type": "code",
   "execution_count": 8,
   "metadata": {},
   "outputs": [],
   "source": [
    "# Using SMOTE to balance the dataset (It avoids overfitting)\n",
    "from imblearn.over_sampling import SMOTE\n",
    "sm = SMOTE(random_state = 33)\n",
    "\n",
    "# Apply SMOTE to first values\n",
    "X_train_2, y_train_2 = sm.fit_sample(X_train_2_unbalanced, y_train_2_unbalanced)\n",
    "X_test_2, y_test_2 = sm.fit_sample(X_test_2_unbalanced, y_test_2_unbalanced)\n",
    "\n",
    "# Apply SMOTE to second values\n",
    "X_train_3, y_train_3 = sm.fit_sample(X_train_3_unbalanced, y_train_3_unbalanced)\n",
    "X_test_3, y_test_3 = sm.fit_sample(X_test_3_unbalanced, y_test_3_unbalanced)"
   ]
  },
  {
   "cell_type": "markdown",
   "metadata": {},
   "source": [
    "# Algorithms"
   ]
  },
  {
   "cell_type": "markdown",
   "metadata": {},
   "source": [
    "### General Imports"
   ]
  },
  {
   "cell_type": "code",
   "execution_count": 9,
   "metadata": {},
   "outputs": [],
   "source": [
    "import sklearn\n",
    "import numpy as np\n",
    "from sklearn.ensemble        import RandomForestClassifier\n",
    "from sklearn.svm             import SVC\n",
    "from sklearn.tree            import DecisionTreeClassifier\n",
    "from sklearn.naive_bayes     import GaussianNB\n",
    "from sklearn.neighbors       import KNeighborsClassifier\n",
    "from sklearn.linear_model    import Perceptron\n",
    "from sklearn.neural_network  import MLPClassifier\n",
    "from sklearn.ensemble        import BaggingClassifier\n",
    "from sklearn.metrics         import accuracy_score"
   ]
  },
  {
   "cell_type": "markdown",
   "metadata": {},
   "source": [
    "### Logistic Regression"
   ]
  },
  {
   "cell_type": "code",
   "execution_count": 28,
   "metadata": {},
   "outputs": [
    {
     "name": "stdout",
     "output_type": "stream",
     "text": [
      "LogisticRegression accuracy with clean text columnd and balanced is: 0.8986486486486487\n",
      "LogisticRegression accuracy with clean text columnd and unbalanced is: 0.8923766816143498\n",
      "LogisticRegression accuracy with stemmed text columns and balanced is: 0.910472972972973\n",
      "LogisticRegression accuracy with stemmed text columns and unbalanced is: 0.8834080717488789\n"
     ]
    }
   ],
   "source": [
    "# Logistic Regression\n",
    "\n",
    "## Logistic Regression with clean text\n",
    "\n",
    "LogReg_JC = sklearn.linear_model.LogisticRegression()  \n",
    "\n",
    "### Balanced\n",
    "LogReg_JC.fit(X_train_2, y_train_2)\n",
    "LogReg_pred_JC = LogReg_JC.predict(X_test_2)\n",
    "LogReg_acc_JC = accuracy_score(LogReg_pred_JC, y_test_2)\n",
    "print('LogisticRegression accuracy with clean text columnd and balanced is: ' + str(LogReg_acc_JC))\n",
    "\n",
    "LogReg_JC_unbalanced = sklearn.linear_model.LogisticRegression()  \n",
    "\n",
    "### Unbalanced\n",
    "LogReg_JC_unbalanced.fit(X_train_2_unbalanced, y_train_2_unbalanced)\n",
    "LogReg_pred_JC_unbalanced = LogReg_JC_unbalanced.predict(X_test_2_unbalanced)\n",
    "LogReg_acc_JC_unbalanced = accuracy_score(LogReg_pred_JC_unbalanced, y_test_2_unbalanced)\n",
    "print('LogisticRegression accuracy with clean text columnd and unbalanced is: ' + str(LogReg_acc_JC_unbalanced))\n",
    "\n",
    "## Logistic Regression with stemmed text\n",
    "\n",
    "LogReg_JC_2 = sklearn.linear_model.LogisticRegression()  \n",
    "\n",
    "### Balanced\n",
    "LogReg_JC_2.fit(X_train_3, y_train_3)\n",
    "LogReg_pred_JC_2 = LogReg_JC_2.predict(X_test_3)\n",
    "LogReg_acc_JC_2 = accuracy_score(LogReg_pred_JC_2, y_test_3)\n",
    "print('LogisticRegression accuracy with stemmed text columns and balanced is: ' + str(LogReg_acc_JC_2))\n",
    "\n",
    "LogReg_JC_unbalanced_2 = sklearn.linear_model.LogisticRegression()  \n",
    "\n",
    "### Unbalanced\n",
    "LogReg_JC_unbalanced_2.fit(X_train_3_unbalanced, y_train_3_unbalanced)\n",
    "LogReg_pred_JC_unbalanced_2 = LogReg_JC_unbalanced_2.predict(X_test_3_unbalanced)\n",
    "LogReg_acc_JC_unbalanced_2 = accuracy_score(LogReg_pred_JC_unbalanced_2, y_test_3_unbalanced)\n",
    "print('LogisticRegression accuracy with stemmed text columns and unbalanced is: ' + str(LogReg_acc_JC_unbalanced_2))\n"
   ]
  },
  {
   "cell_type": "code",
   "execution_count": 29,
   "metadata": {},
   "outputs": [
    {
     "name": "stdout",
     "output_type": "stream",
     "text": [
      "[[271  25]\n",
      " [ 28 268]]\n",
      "              precision    recall  f1-score   support\n",
      "\n",
      "          -1       0.91      0.92      0.91       296\n",
      "           1       0.91      0.91      0.91       296\n",
      "\n",
      "    accuracy                           0.91       592\n",
      "   macro avg       0.91      0.91      0.91       592\n",
      "weighted avg       0.91      0.91      0.91       592\n",
      "\n"
     ]
    }
   ],
   "source": [
    "# Confusion matrix\n",
    "print(metrics.confusion_matrix(y_test_3, LogReg_pred_JC_2))\n",
    "\n",
    "# Report\n",
    "print(classification_report(y_test_3, LogReg_pred_JC_2))"
   ]
  },
  {
   "cell_type": "markdown",
   "metadata": {},
   "source": [
    "Para este caso, los dos cambios introducidos en el dataset son positivos: tanto el procesamiento del texto como el balanceo del dataset tienen ciertas mejoras. Aunque los resultados, al igual que pasaba con el dataset de las emociones son muy parecidos y los márgenes de mejora muy pequeños, éstos sí responden esta vez a lo que la lógica dice a priori.\n",
    "Por tanto, el balanceo con SMOTE y el preprocesamiento, dado que el mejor clasificador se obtiene con la columna stemmed, dan lugar al mejor clasificador."
   ]
  },
  {
   "cell_type": "markdown",
   "metadata": {},
   "source": [
    "### Perceptron"
   ]
  },
  {
   "cell_type": "code",
   "execution_count": 31,
   "metadata": {},
   "outputs": [
    {
     "name": "stdout",
     "output_type": "stream",
     "text": [
      "Perceptron accuracy with clean text column and balanced is: 0.9003378378378378\n",
      "Perceptron accuracy with clean text column and unbalanced is: 0.8834080717488789\n",
      "Perceptron accuracy with stemmed text column and balanced is: 0.8969594594594594\n",
      "Perceptron accuracy with stemmed text column and unbalanced is: 0.8811659192825112\n"
     ]
    }
   ],
   "source": [
    "# Perceptron\n",
    "\n",
    "## Perceptron with clean text\n",
    "\n",
    "Perc_JC = Perceptron(max_iter=1000,tol=0.001)\n",
    "\n",
    "### Balanced\n",
    "Perc_JC.fit(X_train_2, y_train_2)\n",
    "Perc_JC_pred = Perc_JC.predict(X_test_2)\n",
    "Perc_JC_acc = accuracy_score(Perc_JC_pred, y_test_2)\n",
    "print('Perceptron accuracy with clean text column and balanced is: ' + str(Perc_JC_acc))\n",
    "\n",
    "\n",
    "### Unbalanced\n",
    "Perc_JC.fit(X_train_2_unbalanced, y_train_2_unbalanced)\n",
    "Perc_JC_pred_unbalanced = Perc_JC.predict(X_test_2_unbalanced)\n",
    "Perc_JC_acc_unbalanced = accuracy_score(Perc_JC_pred_unbalanced, y_test_2_unbalanced)\n",
    "print('Perceptron accuracy with clean text column and unbalanced is: ' + str(Perc_JC_acc_unbalanced))\n",
    "\n",
    "## Perceptron with stemmed text\n",
    "\n",
    "Perc_JC_2 = Perceptron(max_iter=10000,tol=0.1)\n",
    "\n",
    "### Balanced\n",
    "Perc_JC_2.fit(X_train_3, y_train_3)\n",
    "Perc_JC_pred_2 = Perc_JC_2.predict(X_test_3)\n",
    "Perc_JC_acc_2 = accuracy_score(Perc_JC_pred_2, y_test_3)\n",
    "print('Perceptron accuracy with stemmed text column and balanced is: ' + str(Perc_JC_acc_2))\n",
    "\n",
    "### Unbalanced\n",
    "Perc_JC_2.fit(X_train_3_unbalanced, y_train_3_unbalanced)\n",
    "Perc_JC_unbalanced_pred_2 = Perc_JC_2.predict(X_test_3_unbalanced)\n",
    "Perc_JC_acc_unbalanced_2 = accuracy_score(Perc_JC_unbalanced_pred_2, y_test_3_unbalanced)\n",
    "print('Perceptron accuracy with stemmed text column and unbalanced is: ' + str(Perc_JC_acc_unbalanced_2))"
   ]
  },
  {
   "cell_type": "code",
   "execution_count": 13,
   "metadata": {},
   "outputs": [
    {
     "name": "stdout",
     "output_type": "stream",
     "text": [
      "[[265  31]\n",
      " [ 30 266]]\n",
      "              precision    recall  f1-score   support\n",
      "\n",
      "          -1       0.90      0.90      0.90       296\n",
      "           1       0.90      0.90      0.90       296\n",
      "\n",
      "    accuracy                           0.90       592\n",
      "   macro avg       0.90      0.90      0.90       592\n",
      "weighted avg       0.90      0.90      0.90       592\n",
      "\n"
     ]
    }
   ],
   "source": [
    "# Confusion matrix\n",
    "print(metrics.confusion_matrix(y_test_3, Perc_JC_pred_2))\n",
    "\n",
    "# Report\n",
    "print(classification_report(y_test_3, Perc_JC_pred_2))"
   ]
  },
  {
   "cell_type": "markdown",
   "metadata": {},
   "source": [
    "Para este caso ocurre algo parecido al anterior. En este caso se obtienen resultados muy parecidos para ambos casos y el cambio de hiperparámetros no influye mucho en cuando al resultado final, ya que no varía apenas. Por tanto éste parece un buen clasificador cuando no se quiere preprocesar tanto el texto, dado que obtiene buenos resultados con el tweet en bruto."
   ]
  },
  {
   "cell_type": "markdown",
   "metadata": {},
   "source": [
    "A continuación se va a probar TF-IDF en vez de CountVectorizer como herramienta NLP. Como ya se sabe de la teoría, mientras que CV cuenta la frecuencia de las palabras, TF-IDF integra CountVectorizer y Tfidf-transformation en un único modelo para hacer un \"downscale\" de las palabras que aparecen mucho en un documeto para poder tratar con palabras que se repiten muchas veces."
   ]
  },
  {
   "cell_type": "code",
   "execution_count": 32,
   "metadata": {},
   "outputs": [
    {
     "name": "stdout",
     "output_type": "stream",
     "text": [
      "Perceptron accuracy with clean text column and balanced is: 0.8530405405405406\n",
      "[[228  68]\n",
      " [ 19 277]]\n",
      "              precision    recall  f1-score   support\n",
      "\n",
      "          -1       0.92      0.77      0.84       296\n",
      "           1       0.80      0.94      0.86       296\n",
      "\n",
      "    accuracy                           0.85       592\n",
      "   macro avg       0.86      0.85      0.85       592\n",
      "weighted avg       0.86      0.85      0.85       592\n",
      "\n"
     ]
    }
   ],
   "source": [
    "# Create tfidf object\n",
    "tfidf_vectorizer = TfidfVectorizer()\n",
    "\n",
    "# Apply to stemmed\n",
    "X_tfidf = tfidf_vectorizer.fit_transform(df_5g_clean['stem'].values)\n",
    "y_tfidf = df_5g_clean['polarity'].values\n",
    "\n",
    "# Split in training and testing\n",
    "X_train_tfidf, X_test_tfidf, y_train_tfidf, y_test_tfidf = train_test_split(X_tfidf, y_tfidf, test_size=0.25, random_state=33)\n",
    "\n",
    "# Smote balancing\n",
    "X_tfidf_train, y_tfidf_train = sm.fit_sample(X_train_tfidf, y_train_tfidf)\n",
    "X_tfidf_test, y_tfidf_test = sm.fit_sample(X_test_tfidf, y_test_tfidf)\n",
    "\n",
    "# Apply Perceptron\n",
    "Perc_JC_tfidf = Perceptron(max_iter=1000,tol=0.001)\n",
    "\n",
    "### Balanced\n",
    "Perc_JC_tfidf.fit(X_tfidf_train, y_tfidf_train)\n",
    "Perc_JC_tfidf_pred = Perc_JC_tfidf.predict(X_tfidf_test)\n",
    "Perc_JC_tfidf_acc = accuracy_score(Perc_JC_tfidf_pred, y_tfidf_test)\n",
    "print('Perceptron accuracy with clean text column and balanced is: ' + str(Perc_JC_tfidf_acc))\n",
    "\n",
    "# Confusion matrix\n",
    "print(metrics.confusion_matrix(y_tfidf_test, Perc_JC_tfidf_pred))\n",
    "\n",
    "# Report\n",
    "print(classification_report(y_tfidf_test, Perc_JC_tfidf_pred))\n"
   ]
  },
  {
   "cell_type": "markdown",
   "metadata": {},
   "source": [
    "En este caso, es mejor usar Count Vectorizer para este clasificador. También se ha testeado con otros modelos y, poniéndolo en común con los resultados de los compañeros del equipo, se llega a la conclusión de que CountVectorizer funciona mejor para este dataset."
   ]
  },
  {
   "cell_type": "markdown",
   "metadata": {},
   "source": [
    "### Multi Layer Perceptron"
   ]
  },
  {
   "cell_type": "code",
   "execution_count": 15,
   "metadata": {},
   "outputs": [
    {
     "name": "stdout",
     "output_type": "stream",
     "text": [
      "MLP accuracy with clean text column and balanced is: 0.902027027027027\n",
      "MLP accuracy with clean text column and unbalanced is: 0.8789237668161435\n",
      "MLP accuracy with stemmed text column and balanced is: 0.902027027027027\n",
      "MLP accuracy with stemmed text column and unbalanced is: 0.8699551569506726\n"
     ]
    }
   ],
   "source": [
    "# MLP\n",
    "\n",
    "## MLP with clean text\n",
    "\n",
    "MLP_JC = MLPClassifier(hidden_layer_sizes = (30,40,30))\n",
    "\n",
    "### Balanced\n",
    "MLP_JC.fit(X_train_2, y_train_2)\n",
    "MLP_JC_pred = MLP_JC.predict(X_test_2)\n",
    "MLP_JC_acc = accuracy_score(MLP_JC_pred, y_test_2)\n",
    "print('MLP accuracy with clean text column and balanced is: ' + str(MLP_JC_acc))\n",
    "\n",
    "### Unbalanced\n",
    "MLP_JC.fit(X_train_2_unbalanced, y_train_2_unbalanced)\n",
    "MLP_JC_pred_unbalanced = MLP_JC.predict(X_test_2_unbalanced)\n",
    "MLP_JC_acc_unbalanced = accuracy_score(MLP_JC_pred_unbalanced, y_test_2_unbalanced)\n",
    "print('MLP accuracy with clean text column and unbalanced is: ' + str(MLP_JC_acc_unbalanced))\n",
    "\n",
    "## MLP with stemmed text\n",
    "\n",
    "MLP_JC_2 = MLPClassifier(hidden_layer_sizes = (50,40,50))\n",
    "\n",
    "### Balanced\n",
    "MLP_JC_2.fit(X_train_3, y_train_3)\n",
    "MLP_JC_pred_2 = MLP_JC_2.predict(X_test_3)\n",
    "MLP_JC_acc_2 = accuracy_score(MLP_JC_pred_2, y_test_3)\n",
    "print('MLP accuracy with stemmed text column and balanced is: ' + str(MLP_JC_acc_2))\n",
    "\n",
    "### Unbalanced\n",
    "MLP_JC_2.fit(X_train_3_unbalanced, y_train_3_unbalanced)\n",
    "MLP_JC_unbalanced_pred_2 = MLP_JC_2.predict(X_test_3_unbalanced)\n",
    "MLP_JC_unbalanced_acc_2 = accuracy_score(MLP_JC_unbalanced_pred_2, y_test_3_unbalanced)\n",
    "print('MLP accuracy with stemmed text column and unbalanced is: ' + str(MLP_JC_unbalanced_acc_2))"
   ]
  },
  {
   "cell_type": "code",
   "execution_count": 16,
   "metadata": {},
   "outputs": [
    {
     "name": "stdout",
     "output_type": "stream",
     "text": [
      "[[266  30]\n",
      " [ 28 268]]\n",
      "              precision    recall  f1-score   support\n",
      "\n",
      "          -1       0.90      0.90      0.90       296\n",
      "           1       0.90      0.91      0.90       296\n",
      "\n",
      "    accuracy                           0.90       592\n",
      "   macro avg       0.90      0.90      0.90       592\n",
      "weighted avg       0.90      0.90      0.90       592\n",
      "\n"
     ]
    }
   ],
   "source": [
    "# Confusion matrix\n",
    "print(metrics.confusion_matrix(y_test_2, MLP_JC_pred))\n",
    "\n",
    "# Report\n",
    "print(classification_report(y_test_3, MLP_JC_pred))"
   ]
  },
  {
   "cell_type": "markdown",
   "metadata": {},
   "source": [
    "En este caso, a diferencia de en el notebook de emociones, el MLP se comporta mejor que el Perceptron normal (con más capas y más número en cada capas llega a 0,92). Esto es razonable dado que el tiempo de procesamiento y la complejidad es mayor. \n",
    "Otro aspecto a recalcar es que funciona mejor con el texto en bruto, antes que con el texto stemmed pero por otro lado sí que funciona mejor con el balanceo.\n"
   ]
  },
  {
   "cell_type": "markdown",
   "metadata": {},
   "source": [
    "### KNN"
   ]
  },
  {
   "cell_type": "code",
   "execution_count": 17,
   "metadata": {},
   "outputs": [
    {
     "name": "stdout",
     "output_type": "stream",
     "text": [
      "KNN accuracy with clean text column and balanced is: 0.7972972972972973\n",
      "KNN accuracy with clean text column and unbalanced is: 0.7982062780269058\n",
      "KNN accuracy with stemmed text column and balanced is: 0.7972972972972973\n",
      "KNN accuracy with stemmed text column and unbalanced is: 0.7959641255605381\n"
     ]
    }
   ],
   "source": [
    "# KNN\n",
    "\n",
    "## KNN with clean text\n",
    "\n",
    "KNN_JC = KNeighborsClassifier(n_neighbors=5)\n",
    "\n",
    "### Balanced\n",
    "KNN_JC.fit(X_train_2, y_train_2)\n",
    "KNN_JC_pred = KNN_JC.predict(X_test_2)\n",
    "KNN_JC_acc = accuracy_score(KNN_JC_pred, y_test_2)\n",
    "print('KNN accuracy with clean text column and balanced is: ' + str(KNN_JC_acc))\n",
    "\n",
    "### Unbalanced\n",
    "KNN_JC.fit(X_train_2_unbalanced, y_train_2_unbalanced)\n",
    "KNN_JC_pred_unbalanced = KNN_JC.predict(X_test_2_unbalanced)\n",
    "KNN_JC_acc_unbalanced = accuracy_score(KNN_JC_pred_unbalanced, y_test_2_unbalanced)\n",
    "print('KNN accuracy with clean text column and unbalanced is: ' + str(KNN_JC_acc_unbalanced))\n",
    "\n",
    "## KNN with stemmed text\n",
    "\n",
    "KNN_JC_2 = KNeighborsClassifier(n_neighbors=5)\n",
    "\n",
    "### Balanced\n",
    "KNN_JC_2.fit(X_train_3, y_train_3)\n",
    "KNN_JC_pred_2 = KNN_JC_2.predict(X_test_3)\n",
    "KNN_JC_acc_2 = accuracy_score(KNN_JC_pred_2, y_test_3)\n",
    "print('KNN accuracy with stemmed text column and balanced is: ' + str(KNN_JC_acc_2))\n",
    "\n",
    "### Unbalanced\n",
    "KNN_JC_2.fit(X_train_3_unbalanced, y_train_3_unbalanced)\n",
    "KNN_JC_unbalanced_pred_2 = KNN_JC_2.predict(X_test_3_unbalanced)\n",
    "KNN_JC_unbalanced_acc_2 = accuracy_score(KNN_JC_unbalanced_pred_2, y_test_3_unbalanced)\n",
    "print('KNN accuracy with stemmed text column and unbalanced is: ' + str(KNN_JC_unbalanced_acc_2))"
   ]
  },
  {
   "cell_type": "markdown",
   "metadata": {},
   "source": [
    "Al contrario que con emociones, el KNN obtiene un valor bastante estable, aunque no muy alto en una primera aproximación (K = 5). Veamos a ver cómo puede evolucionar optimizando la K:"
   ]
  },
  {
   "cell_type": "markdown",
   "metadata": {},
   "source": [
    "#### K optimization balanced"
   ]
  },
  {
   "cell_type": "code",
   "execution_count": 18,
   "metadata": {},
   "outputs": [
    {
     "data": {
      "text/plain": [
       "Text(0, 0.5, 'Accuracy')"
      ]
     },
     "execution_count": 18,
     "metadata": {},
     "output_type": "execute_result"
    },
    {
     "data": {
      "image/png": "[encoded data removed]",
      "text/plain": [
       "<Figure size 432x288 with 1 Axes>"
      ]
     },
     "metadata": {
      "needs_background": "light"
     },
     "output_type": "display_data"
    }
   ],
   "source": [
    "# K range \n",
    "k_range = range(1, 40)\n",
    "accuracy = []\n",
    "for k in k_range:\n",
    "    m = KNeighborsClassifier(k)\n",
    "    m.fit(X_train_3_unbalanced, y_train_3_unbalanced)\n",
    "    y_test_pred_2 = m.predict(X_test_3_unbalanced)\n",
    "    accuracy.append(metrics.accuracy_score(y_test_3_unbalanced, y_test_pred_2))\n",
    "plt.plot(k_range, accuracy)\n",
    "plt.xlabel('k value')\n",
    "plt.ylabel('Accuracy')"
   ]
  },
  {
   "cell_type": "markdown",
   "metadata": {},
   "source": [
    "Tal y como se aprecia en la imagen, para el balanceado, el mejor valor de K se obtiene con K = 1. Por tanto se prueba con ese valor:"
   ]
  },
  {
   "cell_type": "code",
   "execution_count": 19,
   "metadata": {},
   "outputs": [
    {
     "name": "stdout",
     "output_type": "stream",
     "text": [
      "KNN accuracy opt with stemmed text column and balanced is: 0.8581081081081081\n",
      "KNN accuracy opt with stemmed text column and unbalanced is: 0.8139013452914798\n"
     ]
    }
   ],
   "source": [
    "# KNN\n",
    "\n",
    "## KNN with clean text\n",
    "\n",
    "KNN_JC_opt = KNeighborsClassifier(n_neighbors=1)\n",
    "\n",
    "### Balanced\n",
    "KNN_JC_opt.fit(X_train_3, y_train_3)\n",
    "KNN_JC_opt_pred = KNN_JC_opt.predict(X_test_3)\n",
    "KNN_JC_opt_acc = accuracy_score(KNN_JC_opt_pred, y_test_3)\n",
    "print('KNN accuracy opt with stemmed text column and balanced is: ' + str(KNN_JC_opt_acc))\n",
    "\n",
    "### Unalanced\n",
    "KNN_JC_opt.fit(X_train_3_unbalanced, y_train_3_unbalanced)\n",
    "KNN_JC_opt_pred = KNN_JC_opt.predict(X_test_3_unbalanced)\n",
    "KNN_JC_opt_acc = accuracy_score(KNN_JC_opt_pred, y_test_3_unbalanced)\n",
    "print('KNN accuracy opt with stemmed text column and unbalanced is: ' + str(KNN_JC_opt_acc))"
   ]
  },
  {
   "cell_type": "markdown",
   "metadata": {},
   "source": [
    "Como se ve, KNN optimizado sigue la tónica general que ya se ha visto. El balanceo del dataset es tremendamente importante (en el caso optimizado se obtiene una mejora de casi 0,5 en accuracy), mientras que el preprocesamiento no parece de nuevo del todo necesario, ya que se obtienen accuracies muy parecidas. Este clasificador puede ser útil para casos con textos en bruto"
   ]
  },
  {
   "cell_type": "markdown",
   "metadata": {},
   "source": [
    "#### KNN with TF-IDF"
   ]
  },
  {
   "cell_type": "code",
   "execution_count": 39,
   "metadata": {},
   "outputs": [
    {
     "name": "stdout",
     "output_type": "stream",
     "text": [
      "KNN accuracy with stem column, optimization on K and balanced is: 0.8597972972972973\n",
      "[[292   4]\n",
      " [ 79 217]]\n",
      "              precision    recall  f1-score   support\n",
      "\n",
      "          -1       0.79      0.99      0.88       296\n",
      "           1       0.98      0.73      0.84       296\n",
      "\n",
      "    accuracy                           0.86       592\n",
      "   macro avg       0.88      0.86      0.86       592\n",
      "weighted avg       0.88      0.86      0.86       592\n",
      "\n"
     ]
    }
   ],
   "source": [
    "# Apply KNN tfidf\n",
    "KNN_JC_tfidf = KNeighborsClassifier(n_neighbors=1)\n",
    "\n",
    "KNN_JC_tfidf.fit(X_tfidf_train, y_tfidf_train)\n",
    "KNN_JC_tfidf_pred = KNN_JC_tfidf.predict(X_tfidf_test)\n",
    "KNN_JC_tfidf_acc = accuracy_score(KNN_JC_tfidf_pred, y_tfidf_test)\n",
    "print('KNN accuracy with stem column, optimization on K and balanced is: ' + str(KNN_JC_tfidf_acc))\n",
    "\n",
    "# Confusion matrix\n",
    "print(metrics.confusion_matrix(y_tfidf_test, KNN_JC_tfidf_pred))\n",
    "\n",
    "# Report\n",
    "print(classification_report(y_tfidf_test, KNN_JC_tfidf_pred))\n"
   ]
  },
  {
   "cell_type": "markdown",
   "metadata": {},
   "source": [
    "También se ha aplicado TFIDFVectorizer para KNN con un resultado no tan negativo como en Perceptron, pero tampoco excesivamente positivo dado que tampoco mejora considerablemente a Count Vectorizer, quedándose igual."
   ]
  },
  {
   "cell_type": "markdown",
   "metadata": {},
   "source": [
    "#  Conclusiones dataset 5G + COVID"
   ]
  },
  {
   "cell_type": "markdown",
   "metadata": {},
   "source": [
    "* Al igual que la primera conclusión del dataset de las emociones, la limpieza del texto no tiene una implicación muy alta en los resultados obtenidos.\n",
    "* Por otro lado el uso de SMOTE si ha resultado muy satisfactorio, dado que se notan mejorías hasta 0,5 en los algoritmos probados en comparación con el dataset no balanceado.\n",
    "* En cuanto a los algoritmos probados:\n",
    "    - KNN ha tenido buenos resultados, sobre todo útil cuando no se dispone de texto preprocesado y se pretende introducir texto en bruto.\n",
    "    - Los perceptrones han obtenido muy buenos resultados (cercanos a 0,9) pero el que mejor resultado obtiene, MLP, tarda un poco en llegar a dicho resultado y además funcionan claramente mejor con los textos en bruto.\n",
    "    - Logistic Regression sí obtiene resultados muy buenos y rápidos, con un valor de más de 0,91, siendo el mejor clasificador obtenido para 5G como para emociones."
   ]
  }
 ],
 "metadata": {
  "kernelspec": {
   "display_name": "Python 3",
   "language": "python",
   "name": "python3"
  },
  "language_info": {
   "codemirror_mode": {
    "name": "ipython",
    "version": 3
   },
   "file_extension": ".py",
   "mimetype": "text/x-python",
   "name": "python",
   "nbconvert_exporter": "python",
   "pygments_lexer": "ipython3",
   "version": "3.7.4"
  }
 },
 "nbformat": 4,
 "nbformat_minor": 2
}
