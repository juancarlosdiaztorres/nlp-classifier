{
 "cells": [
  {
   "cell_type": "markdown",
   "metadata": {},
   "source": [
    "# Preprocessing file to understand 5G raw dataset"
   ]
  },
  {
   "cell_type": "code",
   "execution_count": 1,
   "metadata": {},
   "outputs": [
    {
     "name": "stderr",
     "output_type": "stream",
     "text": [
      "[nltk_data] Downloading package stopwords to\n",
      "[nltk_data]     C:\\Users\\jcdia\\AppData\\Roaming\\nltk_data...\n",
      "[nltk_data]   Package stopwords is already up-to-date!\n",
      "[nltk_data] Downloading package punkt to\n",
      "[nltk_data]     C:\\Users\\jcdia\\AppData\\Roaming\\nltk_data...\n",
      "[nltk_data]   Package punkt is already up-to-date!\n"
     ]
    }
   ],
   "source": [
    "# General import and load data\n",
    "import pandas as pd\n",
    "import numpy as np\n",
    "\n",
    "from pandas import Series, DataFrame\n",
    "\n",
    "# Training and test spliting\n",
    "from sklearn.model_selection import train_test_split\n",
    "from sklearn import preprocessing\n",
    "\n",
    "# Text splitting\n",
    "from sklearn.metrics import classification_report\n",
    "from sklearn import metrics\n",
    "from sklearn.feature_extraction.text import CountVectorizer\n",
    "from sklearn.model_selection import train_test_split \n",
    "\n",
    "# Optimization\n",
    "from sklearn.model_selection import GridSearchCV\n",
    "from sklearn.preprocessing import StandardScaler\n",
    "\n",
    "# Visualisation\n",
    "import seaborn as sns\n",
    "import matplotlib.pyplot as plt\n",
    "sns.set(color_codes=True)\n",
    "\n",
    "# NLP\n",
    "from nltk.tokenize import TweetTokenizer\n",
    "from nltk import word_tokenize\n",
    "import nltk\n",
    "from nltk.corpus import stopwords\n",
    "nltk.download('stopwords')\n",
    "nltk.download('punkt')\n",
    "import matplotlib.pyplot as plt"
   ]
  },
  {
   "cell_type": "markdown",
   "metadata": {},
   "source": [
    "## Import raw dataset 5G"
   ]
  },
  {
   "cell_type": "code",
   "execution_count": 2,
   "metadata": {},
   "outputs": [
    {
     "data": {
      "text/html": [
       "<div>\n",
       "<style scoped>\n",
       "    .dataframe tbody tr th:only-of-type {\n",
       "        vertical-align: middle;\n",
       "    }\n",
       "\n",
       "    .dataframe tbody tr th {\n",
       "        vertical-align: top;\n",
       "    }\n",
       "\n",
       "    .dataframe thead th {\n",
       "        text-align: right;\n",
       "    }\n",
       "</style>\n",
       "<table border=\"1\" class=\"dataframe\">\n",
       "  <thead>\n",
       "    <tr style=\"text-align: right;\">\n",
       "      <th></th>\n",
       "      <th>Unnamed: 0</th>\n",
       "      <th>id</th>\n",
       "      <th>Datetime</th>\n",
       "      <th>tweet</th>\n",
       "      <th>emotion</th>\n",
       "    </tr>\n",
       "  </thead>\n",
       "  <tbody>\n",
       "    <tr>\n",
       "      <td>0</td>\n",
       "      <td>0</td>\n",
       "      <td>1,25897E+18</td>\n",
       "      <td>2020-05-09 3:43:57</td>\n",
       "      <td>RT @skitvomfeinsten: +++++++ GOD AlWAYS WIN ++...</td>\n",
       "      <td>0.800000</td>\n",
       "    </tr>\n",
       "    <tr>\n",
       "      <td>1</td>\n",
       "      <td>1</td>\n",
       "      <td>1258470733879148547</td>\n",
       "      <td>2020-05-07 18:56:18</td>\n",
       "      <td>RT @HalladayIn: @outofcontroljb @kaitlancollin...</td>\n",
       "      <td>-0.090909</td>\n",
       "    </tr>\n",
       "    <tr>\n",
       "      <td>2</td>\n",
       "      <td>2</td>\n",
       "      <td>1258470843597889537</td>\n",
       "      <td>2020-05-07 18:56:45</td>\n",
       "      <td>RT @matthaig1: Hi conspiracy theorists! A few ...</td>\n",
       "      <td>-0.100000</td>\n",
       "    </tr>\n",
       "    <tr>\n",
       "      <td>3</td>\n",
       "      <td>3</td>\n",
       "      <td>1258470857325686785</td>\n",
       "      <td>2020-05-07 18:56:48</td>\n",
       "      <td>RT @panos941: People beginning to lose it 😬&amp;gt...</td>\n",
       "      <td>-0.226852</td>\n",
       "    </tr>\n",
       "    <tr>\n",
       "      <td>4</td>\n",
       "      <td>4</td>\n",
       "      <td>1258470865286635522</td>\n",
       "      <td>2020-05-07 18:56:50</td>\n",
       "      <td>RT @ZaidZamanHamid: This is one of the most im...</td>\n",
       "      <td>0.450000</td>\n",
       "    </tr>\n",
       "  </tbody>\n",
       "</table>\n",
       "</div>"
      ],
      "text/plain": [
       "   Unnamed: 0                   id             Datetime  \\\n",
       "0           0          1,25897E+18   2020-05-09 3:43:57   \n",
       "1           1  1258470733879148547  2020-05-07 18:56:18   \n",
       "2           2  1258470843597889537  2020-05-07 18:56:45   \n",
       "3           3  1258470857325686785  2020-05-07 18:56:48   \n",
       "4           4  1258470865286635522  2020-05-07 18:56:50   \n",
       "\n",
       "                                               tweet   emotion  \n",
       "0  RT @skitvomfeinsten: +++++++ GOD AlWAYS WIN ++...  0.800000  \n",
       "1  RT @HalladayIn: @outofcontroljb @kaitlancollin... -0.090909  \n",
       "2  RT @matthaig1: Hi conspiracy theorists! A few ... -0.100000  \n",
       "3  RT @panos941: People beginning to lose it 😬&gt... -0.226852  \n",
       "4  RT @ZaidZamanHamid: This is one of the most im...  0.450000  "
      ]
     },
     "execution_count": 2,
     "metadata": {},
     "output_type": "execute_result"
    }
   ],
   "source": [
    "df_5G = pd.read_csv('dataset_5G_raw.csv')\n",
    "df_5G.head()"
   ]
  },
  {
   "cell_type": "markdown",
   "metadata": {},
   "source": [
    "Aquí podemos ver el dataset y los valores de emociones sacados con TextBlob. A partir de aquí se estudiarán y visualizarán algunos aspectos del mismo."
   ]
  },
  {
   "cell_type": "markdown",
   "metadata": {},
   "source": [
    "## Estudio del resultado emociones"
   ]
  },
  {
   "cell_type": "code",
   "execution_count": 3,
   "metadata": {},
   "outputs": [
    {
     "data": {
      "text/plain": [
       "0.23699028259762356"
      ]
     },
     "execution_count": 3,
     "metadata": {},
     "output_type": "execute_result"
    },
    {
     "data": {
      "image/png": "[encoded data removed]",
      "text/plain": [
       "<Figure size 720x720 with 1 Axes>"
      ]
     },
     "metadata": {
      "needs_background": "light"
     },
     "output_type": "display_data"
    }
   ],
   "source": [
    "df_5G['emotion'].hist(figsize=(10,10))\n",
    "df_5G['emotion'].mean()"
   ]
  },
  {
   "cell_type": "markdown",
   "metadata": {},
   "source": [
    "Como se puede ver, la herramienta de TextBlob saca como resultado que los tweets son en su mayoría positivos (emotion >= 0) y además se puede apreciar también que hay muchos casos con valor cercano a 1.0 (tweets muy positivos) tal y como se aprecia en la celda de debajo:"
   ]
  },
  {
   "cell_type": "markdown",
   "metadata": {},
   "source": [
    "## Estudio del resultado emociones"
   ]
  },
  {
   "cell_type": "code",
   "execution_count": 4,
   "metadata": {},
   "outputs": [
    {
     "data": {
      "text/plain": [
       " 0.800000    368\n",
       " 0.450000    171\n",
       " 0.500000     87\n",
       "-0.200000     63\n",
       " 0.100000     49\n",
       "            ... \n",
       "-0.110606      1\n",
       "-0.214286      1\n",
       " 0.606667      1\n",
       " 0.122222      1\n",
       "-0.075000      1\n",
       "Name: emotion, Length: 365, dtype: int64"
      ]
     },
     "execution_count": 4,
     "metadata": {},
     "output_type": "execute_result"
    }
   ],
   "source": [
    "df_5G['emotion'].value_counts()"
   ]
  },
  {
   "cell_type": "code",
   "execution_count": 5,
   "metadata": {},
   "outputs": [
    {
     "data": {
      "text/html": [
       "<div>\n",
       "<style scoped>\n",
       "    .dataframe tbody tr th:only-of-type {\n",
       "        vertical-align: middle;\n",
       "    }\n",
       "\n",
       "    .dataframe tbody tr th {\n",
       "        vertical-align: top;\n",
       "    }\n",
       "\n",
       "    .dataframe thead th {\n",
       "        text-align: right;\n",
       "    }\n",
       "</style>\n",
       "<table border=\"1\" class=\"dataframe\">\n",
       "  <thead>\n",
       "    <tr style=\"text-align: right;\">\n",
       "      <th></th>\n",
       "      <th>Unnamed: 0</th>\n",
       "      <th>id</th>\n",
       "      <th>Datetime</th>\n",
       "      <th>tweet</th>\n",
       "      <th>emotion</th>\n",
       "    </tr>\n",
       "  </thead>\n",
       "  <tbody>\n",
       "  </tbody>\n",
       "</table>\n",
       "</div>"
      ],
      "text/plain": [
       "Empty DataFrame\n",
       "Columns: [Unnamed: 0, id, Datetime, tweet, emotion]\n",
       "Index: []"
      ]
     },
     "execution_count": 5,
     "metadata": {},
     "output_type": "execute_result"
    }
   ],
   "source": [
    "# Checkeo tweet_text no es NaN para comprobación de que scaper ha funcionado bien\n",
    "df_5G[df_5G.tweet.isna()]"
   ]
  },
  {
   "cell_type": "markdown",
   "metadata": {},
   "source": [
    "Parte de esta limpieza está basada en https://ourcodingclub.github.io/tutorials/topic-modelling-python/"
   ]
  },
  {
   "cell_type": "markdown",
   "metadata": {},
   "source": [
    "#### Método auxiliar para buscar RTs y añadirlos como boolean a la columna"
   ]
  },
  {
   "cell_type": "code",
   "execution_count": 6,
   "metadata": {},
   "outputs": [
    {
     "data": {
      "text/html": [
       "<div>\n",
       "<style scoped>\n",
       "    .dataframe tbody tr th:only-of-type {\n",
       "        vertical-align: middle;\n",
       "    }\n",
       "\n",
       "    .dataframe tbody tr th {\n",
       "        vertical-align: top;\n",
       "    }\n",
       "\n",
       "    .dataframe thead th {\n",
       "        text-align: right;\n",
       "    }\n",
       "</style>\n",
       "<table border=\"1\" class=\"dataframe\">\n",
       "  <thead>\n",
       "    <tr style=\"text-align: right;\">\n",
       "      <th></th>\n",
       "      <th>Unnamed: 0</th>\n",
       "      <th>id</th>\n",
       "      <th>Datetime</th>\n",
       "      <th>tweet</th>\n",
       "      <th>emotion</th>\n",
       "      <th>is_retweet</th>\n",
       "    </tr>\n",
       "  </thead>\n",
       "  <tbody>\n",
       "    <tr>\n",
       "      <td>0</td>\n",
       "      <td>0</td>\n",
       "      <td>1,25897E+18</td>\n",
       "      <td>2020-05-09 3:43:57</td>\n",
       "      <td>RT @skitvomfeinsten: +++++++ GOD AlWAYS WIN ++...</td>\n",
       "      <td>0.800000</td>\n",
       "      <td>True</td>\n",
       "    </tr>\n",
       "    <tr>\n",
       "      <td>1</td>\n",
       "      <td>1</td>\n",
       "      <td>1258470733879148547</td>\n",
       "      <td>2020-05-07 18:56:18</td>\n",
       "      <td>RT @HalladayIn: @outofcontroljb @kaitlancollin...</td>\n",
       "      <td>-0.090909</td>\n",
       "      <td>True</td>\n",
       "    </tr>\n",
       "    <tr>\n",
       "      <td>2</td>\n",
       "      <td>2</td>\n",
       "      <td>1258470843597889537</td>\n",
       "      <td>2020-05-07 18:56:45</td>\n",
       "      <td>RT @matthaig1: Hi conspiracy theorists! A few ...</td>\n",
       "      <td>-0.100000</td>\n",
       "      <td>True</td>\n",
       "    </tr>\n",
       "    <tr>\n",
       "      <td>3</td>\n",
       "      <td>3</td>\n",
       "      <td>1258470857325686785</td>\n",
       "      <td>2020-05-07 18:56:48</td>\n",
       "      <td>RT @panos941: People beginning to lose it 😬&amp;gt...</td>\n",
       "      <td>-0.226852</td>\n",
       "      <td>True</td>\n",
       "    </tr>\n",
       "    <tr>\n",
       "      <td>4</td>\n",
       "      <td>4</td>\n",
       "      <td>1258470865286635522</td>\n",
       "      <td>2020-05-07 18:56:50</td>\n",
       "      <td>RT @ZaidZamanHamid: This is one of the most im...</td>\n",
       "      <td>0.450000</td>\n",
       "      <td>True</td>\n",
       "    </tr>\n",
       "  </tbody>\n",
       "</table>\n",
       "</div>"
      ],
      "text/plain": [
       "   Unnamed: 0                   id             Datetime  \\\n",
       "0           0          1,25897E+18   2020-05-09 3:43:57   \n",
       "1           1  1258470733879148547  2020-05-07 18:56:18   \n",
       "2           2  1258470843597889537  2020-05-07 18:56:45   \n",
       "3           3  1258470857325686785  2020-05-07 18:56:48   \n",
       "4           4  1258470865286635522  2020-05-07 18:56:50   \n",
       "\n",
       "                                               tweet   emotion  is_retweet  \n",
       "0  RT @skitvomfeinsten: +++++++ GOD AlWAYS WIN ++...  0.800000        True  \n",
       "1  RT @HalladayIn: @outofcontroljb @kaitlancollin... -0.090909        True  \n",
       "2  RT @matthaig1: Hi conspiracy theorists! A few ... -0.100000        True  \n",
       "3  RT @panos941: People beginning to lose it 😬&gt... -0.226852        True  \n",
       "4  RT @ZaidZamanHamid: This is one of the most im...  0.450000        True  "
      ]
     },
     "execution_count": 6,
     "metadata": {},
     "output_type": "execute_result"
    }
   ],
   "source": [
    "# Finding RTs\n",
    "# make a new column to highlight retweets\n",
    "df_5G['is_retweet'] = df_5G['tweet'].apply(lambda x: x[:2]=='RT')\n",
    "df_5G['is_retweet'].sum() \n",
    "df_5G.head()"
   ]
  },
  {
   "cell_type": "markdown",
   "metadata": {},
   "source": [
    "#### Visualización tweets repetidos"
   ]
  },
  {
   "cell_type": "markdown",
   "metadata": {},
   "source": [
    "Contador de tweets repetidos: Al usar el scraper de tweets por ID, cada RT es un tweet_ID distinto que contiene el mismo texto que el tweet del que se ha hecho RT. Es por ello por lo que aparece dentro del dataset el mismo tweet N veces debido a que tiene N-1 RTs."
   ]
  },
  {
   "cell_type": "code",
   "execution_count": 7,
   "metadata": {},
   "outputs": [
    {
     "data": {
      "text/html": [
       "<div>\n",
       "<style scoped>\n",
       "    .dataframe tbody tr th:only-of-type {\n",
       "        vertical-align: middle;\n",
       "    }\n",
       "\n",
       "    .dataframe tbody tr th {\n",
       "        vertical-align: top;\n",
       "    }\n",
       "\n",
       "    .dataframe thead th {\n",
       "        text-align: right;\n",
       "    }\n",
       "</style>\n",
       "<table border=\"1\" class=\"dataframe\">\n",
       "  <thead>\n",
       "    <tr style=\"text-align: right;\">\n",
       "      <th></th>\n",
       "      <th>tweet</th>\n",
       "      <th>counts</th>\n",
       "    </tr>\n",
       "  </thead>\n",
       "  <tbody>\n",
       "    <tr>\n",
       "      <td>706</td>\n",
       "      <td>RT @skitvomfeinsten: +++++++ GOD AlWAYS WIN ++...</td>\n",
       "      <td>366</td>\n",
       "    </tr>\n",
       "    <tr>\n",
       "      <td>629</td>\n",
       "      <td>RT @ZaidZamanHamid: This is one of the most im...</td>\n",
       "      <td>168</td>\n",
       "    </tr>\n",
       "    <tr>\n",
       "      <td>569</td>\n",
       "      <td>RT @JamesrossrJames: and for you imbeciles tha...</td>\n",
       "      <td>48</td>\n",
       "    </tr>\n",
       "    <tr>\n",
       "      <td>559</td>\n",
       "      <td>RT @GOPoversight: .@RepRatcliffe: \"I view Chin...</td>\n",
       "      <td>30</td>\n",
       "    </tr>\n",
       "    <tr>\n",
       "      <td>603</td>\n",
       "      <td>RT @ResistMonsters: @DesignationSix Wow why wo...</td>\n",
       "      <td>20</td>\n",
       "    </tr>\n",
       "    <tr>\n",
       "      <td>625</td>\n",
       "      <td>RT @Thomas_Binder: Thread web⬆️⬇️\\n\\nThe most ...</td>\n",
       "      <td>16</td>\n",
       "    </tr>\n",
       "    <tr>\n",
       "      <td>611</td>\n",
       "      <td>RT @Shirastweet: Very much enjoyed this conver...</td>\n",
       "      <td>15</td>\n",
       "    </tr>\n",
       "    <tr>\n",
       "      <td>668</td>\n",
       "      <td>RT @kennygee_70: Christ embassy members have f...</td>\n",
       "      <td>15</td>\n",
       "    </tr>\n",
       "    <tr>\n",
       "      <td>640</td>\n",
       "      <td>RT @cameronwilson: what seems distinct about A...</td>\n",
       "      <td>13</td>\n",
       "    </tr>\n",
       "    <tr>\n",
       "      <td>554</td>\n",
       "      <td>RT @EmmieSerge: Made a freestyle verse for Cov...</td>\n",
       "      <td>13</td>\n",
       "    </tr>\n",
       "  </tbody>\n",
       "</table>\n",
       "</div>"
      ],
      "text/plain": [
       "                                                 tweet  counts\n",
       "706  RT @skitvomfeinsten: +++++++ GOD AlWAYS WIN ++...     366\n",
       "629  RT @ZaidZamanHamid: This is one of the most im...     168\n",
       "569  RT @JamesrossrJames: and for you imbeciles tha...      48\n",
       "559  RT @GOPoversight: .@RepRatcliffe: \"I view Chin...      30\n",
       "603  RT @ResistMonsters: @DesignationSix Wow why wo...      20\n",
       "625  RT @Thomas_Binder: Thread web⬆️⬇️\\n\\nThe most ...      16\n",
       "611  RT @Shirastweet: Very much enjoyed this conver...      15\n",
       "668  RT @kennygee_70: Christ embassy members have f...      15\n",
       "640  RT @cameronwilson: what seems distinct about A...      13\n",
       "554  RT @EmmieSerge: Made a freestyle verse for Cov...      13"
      ]
     },
     "execution_count": 7,
     "metadata": {},
     "output_type": "execute_result"
    }
   ],
   "source": [
    "# 10 most repeated tweets to check that different tweets_IDs are duplicated due to RT\n",
    "df_5G.groupby(['tweet']).size().reset_index(name='counts')\\\n",
    "  .sort_values('counts', ascending=False).head(10)\n"
   ]
  },
  {
   "cell_type": "code",
   "execution_count": 8,
   "metadata": {},
   "outputs": [
    {
     "data": {
      "image/png": "[encoded data removed]",
      "text/plain": [
       "<Figure size 432x288 with 1 Axes>"
      ]
     },
     "metadata": {
      "needs_background": "light"
     },
     "output_type": "display_data"
    }
   ],
   "source": [
    "# Este fragmento de texto es para detectar cuántas veces se repiten los tweets más repetidos\n",
    "# number of times each tweet appears\n",
    "counts = df_5G.groupby(['tweet']).size()\\\n",
    "           .reset_index(name='counts')\\\n",
    "           .counts\n",
    "\n",
    "# define bins for histogram\n",
    "my_bins = np.arange(0,counts.max()+2, 1)-0.5\n",
    "\n",
    "# plot histogram of tweet counts\n",
    "plt.figure()\n",
    "plt.hist(counts, bins = my_bins)\n",
    "plt.xlabels = np.arange(1,counts.max()+1, 1)\n",
    "plt.xlabel('copies of each tweet')\n",
    "plt.ylabel('frequency')\n",
    "plt.yscale('log', nonposy='clip')\n",
    "plt.show()"
   ]
  },
  {
   "cell_type": "markdown",
   "metadata": {},
   "source": [
    "#### Funciones auxiliares para buscar y añadir columnas extra"
   ]
  },
  {
   "cell_type": "markdown",
   "metadata": {},
   "source": [
    "Estas nuevas columnas llevarán en un array el usuario que ha hecho RT, las meciones y los hashtags."
   ]
  },
  {
   "cell_type": "code",
   "execution_count": 9,
   "metadata": {},
   "outputs": [],
   "source": [
    "import re\n",
    "# Creación de funciones auxiliares para buscar RTs, menciones y hashtags\n",
    "def find_retweeted(tweet):\n",
    "    '''This function will extract the twitter handles of retweed people'''\n",
    "    return re.findall('(?<=RT\\s)(@[A-Za-z]+[A-Za-z0-9-_]+)', tweet)\n",
    "\n",
    "def find_mentioned(tweet):\n",
    "    '''This function will extract the twitter handles of people mentioned in the tweet'''\n",
    "    return re.findall('(?<!RT\\s)(@[A-Za-z]+[A-Za-z0-9-_]+)', tweet)  \n",
    "\n",
    "def find_hashtags(tweet):\n",
    "    '''This function will extract hashtags'''\n",
    "    return re.findall('(#[A-Za-z]+[A-Za-z0-9-_]+)', tweet)   "
   ]
  },
  {
   "cell_type": "code",
   "execution_count": 10,
   "metadata": {},
   "outputs": [],
   "source": [
    "# Crear nuevas columnas con las funciones anteriores\n",
    "df_5G['retweeted'] = df_5G.tweet.apply(find_retweeted)\n",
    "df_5G['mentioned'] = df_5G.tweet.apply(find_mentioned)\n",
    "df_5G['hashtags'] = df_5G.tweet.apply(find_hashtags)"
   ]
  },
  {
   "cell_type": "code",
   "execution_count": 11,
   "metadata": {},
   "outputs": [
    {
     "data": {
      "text/html": [
       "<div>\n",
       "<style scoped>\n",
       "    .dataframe tbody tr th:only-of-type {\n",
       "        vertical-align: middle;\n",
       "    }\n",
       "\n",
       "    .dataframe tbody tr th {\n",
       "        vertical-align: top;\n",
       "    }\n",
       "\n",
       "    .dataframe thead th {\n",
       "        text-align: right;\n",
       "    }\n",
       "</style>\n",
       "<table border=\"1\" class=\"dataframe\">\n",
       "  <thead>\n",
       "    <tr style=\"text-align: right;\">\n",
       "      <th></th>\n",
       "      <th>Unnamed: 0</th>\n",
       "      <th>id</th>\n",
       "      <th>Datetime</th>\n",
       "      <th>tweet</th>\n",
       "      <th>emotion</th>\n",
       "      <th>is_retweet</th>\n",
       "      <th>retweeted</th>\n",
       "      <th>mentioned</th>\n",
       "      <th>hashtags</th>\n",
       "    </tr>\n",
       "  </thead>\n",
       "  <tbody>\n",
       "    <tr>\n",
       "      <td>0</td>\n",
       "      <td>0</td>\n",
       "      <td>1,25897E+18</td>\n",
       "      <td>2020-05-09 3:43:57</td>\n",
       "      <td>RT @skitvomfeinsten: +++++++ GOD AlWAYS WIN ++...</td>\n",
       "      <td>0.800000</td>\n",
       "      <td>True</td>\n",
       "      <td>[@skitvomfeinsten]</td>\n",
       "      <td>[]</td>\n",
       "      <td>[#QAnon, #WWG1WGA, #WORLDWIDE, #Tower, #JE]</td>\n",
       "    </tr>\n",
       "    <tr>\n",
       "      <td>1</td>\n",
       "      <td>1</td>\n",
       "      <td>1258470733879148547</td>\n",
       "      <td>2020-05-07 18:56:18</td>\n",
       "      <td>RT @HalladayIn: @outofcontroljb @kaitlancollin...</td>\n",
       "      <td>-0.090909</td>\n",
       "      <td>True</td>\n",
       "      <td>[@HalladayIn]</td>\n",
       "      <td>[@outofcontroljb, @kaitlancollins]</td>\n",
       "      <td>[]</td>\n",
       "    </tr>\n",
       "    <tr>\n",
       "      <td>2</td>\n",
       "      <td>2</td>\n",
       "      <td>1258470843597889537</td>\n",
       "      <td>2020-05-07 18:56:45</td>\n",
       "      <td>RT @matthaig1: Hi conspiracy theorists! A few ...</td>\n",
       "      <td>-0.100000</td>\n",
       "      <td>True</td>\n",
       "      <td>[@matthaig1]</td>\n",
       "      <td>[]</td>\n",
       "      <td>[]</td>\n",
       "    </tr>\n",
       "    <tr>\n",
       "      <td>3</td>\n",
       "      <td>3</td>\n",
       "      <td>1258470857325686785</td>\n",
       "      <td>2020-05-07 18:56:48</td>\n",
       "      <td>RT @panos941: People beginning to lose it 😬&amp;gt...</td>\n",
       "      <td>-0.226852</td>\n",
       "      <td>True</td>\n",
       "      <td>[@panos941]</td>\n",
       "      <td>[]</td>\n",
       "      <td>[]</td>\n",
       "    </tr>\n",
       "    <tr>\n",
       "      <td>4</td>\n",
       "      <td>4</td>\n",
       "      <td>1258470865286635522</td>\n",
       "      <td>2020-05-07 18:56:50</td>\n",
       "      <td>RT @ZaidZamanHamid: This is one of the most im...</td>\n",
       "      <td>0.450000</td>\n",
       "      <td>True</td>\n",
       "      <td>[@ZaidZamanHamid]</td>\n",
       "      <td>[]</td>\n",
       "      <td>[#Covid_19]</td>\n",
       "    </tr>\n",
       "  </tbody>\n",
       "</table>\n",
       "</div>"
      ],
      "text/plain": [
       "   Unnamed: 0                   id             Datetime  \\\n",
       "0           0          1,25897E+18   2020-05-09 3:43:57   \n",
       "1           1  1258470733879148547  2020-05-07 18:56:18   \n",
       "2           2  1258470843597889537  2020-05-07 18:56:45   \n",
       "3           3  1258470857325686785  2020-05-07 18:56:48   \n",
       "4           4  1258470865286635522  2020-05-07 18:56:50   \n",
       "\n",
       "                                               tweet   emotion  is_retweet  \\\n",
       "0  RT @skitvomfeinsten: +++++++ GOD AlWAYS WIN ++...  0.800000        True   \n",
       "1  RT @HalladayIn: @outofcontroljb @kaitlancollin... -0.090909        True   \n",
       "2  RT @matthaig1: Hi conspiracy theorists! A few ... -0.100000        True   \n",
       "3  RT @panos941: People beginning to lose it 😬&gt... -0.226852        True   \n",
       "4  RT @ZaidZamanHamid: This is one of the most im...  0.450000        True   \n",
       "\n",
       "            retweeted                           mentioned  \\\n",
       "0  [@skitvomfeinsten]                                  []   \n",
       "1       [@HalladayIn]  [@outofcontroljb, @kaitlancollins]   \n",
       "2        [@matthaig1]                                  []   \n",
       "3         [@panos941]                                  []   \n",
       "4   [@ZaidZamanHamid]                                  []   \n",
       "\n",
       "                                      hashtags  \n",
       "0  [#QAnon, #WWG1WGA, #WORLDWIDE, #Tower, #JE]  \n",
       "1                                           []  \n",
       "2                                           []  \n",
       "3                                           []  \n",
       "4                                  [#Covid_19]  "
      ]
     },
     "execution_count": 11,
     "metadata": {},
     "output_type": "execute_result"
    }
   ],
   "source": [
    "df_5G.head()"
   ]
  },
  {
   "cell_type": "markdown",
   "metadata": {},
   "source": [
    "#### Funciones auxiliares para borrar links y usuarios del texto del tweet"
   ]
  },
  {
   "cell_type": "code",
   "execution_count": 12,
   "metadata": {},
   "outputs": [],
   "source": [
    "# Adición de varias columnas con texto sin links ni usuarios\n",
    "def remove_links(tweet):\n",
    "    '''Takes a string and removes web links from it'''\n",
    "    tweet = re.sub(r'http\\S+', '', tweet) # remove http links\n",
    "    tweet = re.sub(r'bit.ly/\\S+', '', tweet) # rempve bitly links\n",
    "    tweet = tweet.strip('[link]') # remove [links]\n",
    "    return tweet\n",
    "\n",
    "def remove_users(tweet):\n",
    "    '''Takes a string and removes retweet and @user information'''\n",
    "    tweet = re.sub('(RT\\s@[A-Za-z]+[A-Za-z0-9-_]+)', '', tweet) # remove retweet\n",
    "    tweet = re.sub('(@[A-Za-z]+[A-Za-z0-9-_]+)', '', tweet) # remove tweeted at\n",
    "    return tweet"
   ]
  },
  {
   "cell_type": "code",
   "execution_count": 13,
   "metadata": {},
   "outputs": [],
   "source": [
    "df_5G['no_links'] = df_5G.tweet.apply(remove_links)\n",
    "df_5G['no_users'] = df_5G.tweet.apply(remove_users)"
   ]
  },
  {
   "cell_type": "code",
   "execution_count": 14,
   "metadata": {},
   "outputs": [
    {
     "data": {
      "text/html": [
       "<div>\n",
       "<style scoped>\n",
       "    .dataframe tbody tr th:only-of-type {\n",
       "        vertical-align: middle;\n",
       "    }\n",
       "\n",
       "    .dataframe tbody tr th {\n",
       "        vertical-align: top;\n",
       "    }\n",
       "\n",
       "    .dataframe thead th {\n",
       "        text-align: right;\n",
       "    }\n",
       "</style>\n",
       "<table border=\"1\" class=\"dataframe\">\n",
       "  <thead>\n",
       "    <tr style=\"text-align: right;\">\n",
       "      <th></th>\n",
       "      <th>Unnamed: 0</th>\n",
       "      <th>id</th>\n",
       "      <th>Datetime</th>\n",
       "      <th>tweet</th>\n",
       "      <th>emotion</th>\n",
       "      <th>is_retweet</th>\n",
       "      <th>retweeted</th>\n",
       "      <th>mentioned</th>\n",
       "      <th>hashtags</th>\n",
       "      <th>no_links</th>\n",
       "      <th>no_users</th>\n",
       "    </tr>\n",
       "  </thead>\n",
       "  <tbody>\n",
       "    <tr>\n",
       "      <td>0</td>\n",
       "      <td>0</td>\n",
       "      <td>1,25897E+18</td>\n",
       "      <td>2020-05-09 3:43:57</td>\n",
       "      <td>RT @skitvomfeinsten: +++++++ GOD AlWAYS WIN ++...</td>\n",
       "      <td>0.800000</td>\n",
       "      <td>True</td>\n",
       "      <td>[@skitvomfeinsten]</td>\n",
       "      <td>[]</td>\n",
       "      <td>[#QAnon, #WWG1WGA, #WORLDWIDE, #Tower, #JE]</td>\n",
       "      <td>RT @skitvomfeinsten: +++++++ GOD AlWAYS WIN ++...</td>\n",
       "      <td>: +++++++ GOD AlWAYS WIN +++++++\\n\\nBirds disc...</td>\n",
       "    </tr>\n",
       "    <tr>\n",
       "      <td>1</td>\n",
       "      <td>1</td>\n",
       "      <td>1258470733879148547</td>\n",
       "      <td>2020-05-07 18:56:18</td>\n",
       "      <td>RT @HalladayIn: @outofcontroljb @kaitlancollin...</td>\n",
       "      <td>-0.090909</td>\n",
       "      <td>True</td>\n",
       "      <td>[@HalladayIn]</td>\n",
       "      <td>[@outofcontroljb, @kaitlancollins]</td>\n",
       "      <td>[]</td>\n",
       "      <td>RT @HalladayIn: @outofcontroljb @kaitlancollin...</td>\n",
       "      <td>:   The Covid-positive valet is part of the de...</td>\n",
       "    </tr>\n",
       "    <tr>\n",
       "      <td>2</td>\n",
       "      <td>2</td>\n",
       "      <td>1258470843597889537</td>\n",
       "      <td>2020-05-07 18:56:45</td>\n",
       "      <td>RT @matthaig1: Hi conspiracy theorists! A few ...</td>\n",
       "      <td>-0.100000</td>\n",
       "      <td>True</td>\n",
       "      <td>[@matthaig1]</td>\n",
       "      <td>[]</td>\n",
       "      <td>[]</td>\n",
       "      <td>RT @matthaig1: Hi conspiracy theorists! A few ...</td>\n",
       "      <td>: Hi conspiracy theorists! A few q’s. If 5G is...</td>\n",
       "    </tr>\n",
       "    <tr>\n",
       "      <td>3</td>\n",
       "      <td>3</td>\n",
       "      <td>1258470857325686785</td>\n",
       "      <td>2020-05-07 18:56:48</td>\n",
       "      <td>RT @panos941: People beginning to lose it 😬&amp;gt...</td>\n",
       "      <td>-0.226852</td>\n",
       "      <td>True</td>\n",
       "      <td>[@panos941]</td>\n",
       "      <td>[]</td>\n",
       "      <td>[]</td>\n",
       "      <td>RT @panos941: People beginning to lose it 😬&amp;gt...</td>\n",
       "      <td>: People beginning to lose it 😬&amp;gt;Almost 80 m...</td>\n",
       "    </tr>\n",
       "    <tr>\n",
       "      <td>4</td>\n",
       "      <td>4</td>\n",
       "      <td>1258470865286635522</td>\n",
       "      <td>2020-05-07 18:56:50</td>\n",
       "      <td>RT @ZaidZamanHamid: This is one of the most im...</td>\n",
       "      <td>0.450000</td>\n",
       "      <td>True</td>\n",
       "      <td>[@ZaidZamanHamid]</td>\n",
       "      <td>[]</td>\n",
       "      <td>[#Covid_19]</td>\n",
       "      <td>RT @ZaidZamanHamid: This is one of the most im...</td>\n",
       "      <td>: This is one of the most important reasons wh...</td>\n",
       "    </tr>\n",
       "  </tbody>\n",
       "</table>\n",
       "</div>"
      ],
      "text/plain": [
       "   Unnamed: 0                   id             Datetime  \\\n",
       "0           0          1,25897E+18   2020-05-09 3:43:57   \n",
       "1           1  1258470733879148547  2020-05-07 18:56:18   \n",
       "2           2  1258470843597889537  2020-05-07 18:56:45   \n",
       "3           3  1258470857325686785  2020-05-07 18:56:48   \n",
       "4           4  1258470865286635522  2020-05-07 18:56:50   \n",
       "\n",
       "                                               tweet   emotion  is_retweet  \\\n",
       "0  RT @skitvomfeinsten: +++++++ GOD AlWAYS WIN ++...  0.800000        True   \n",
       "1  RT @HalladayIn: @outofcontroljb @kaitlancollin... -0.090909        True   \n",
       "2  RT @matthaig1: Hi conspiracy theorists! A few ... -0.100000        True   \n",
       "3  RT @panos941: People beginning to lose it 😬&gt... -0.226852        True   \n",
       "4  RT @ZaidZamanHamid: This is one of the most im...  0.450000        True   \n",
       "\n",
       "            retweeted                           mentioned  \\\n",
       "0  [@skitvomfeinsten]                                  []   \n",
       "1       [@HalladayIn]  [@outofcontroljb, @kaitlancollins]   \n",
       "2        [@matthaig1]                                  []   \n",
       "3         [@panos941]                                  []   \n",
       "4   [@ZaidZamanHamid]                                  []   \n",
       "\n",
       "                                      hashtags  \\\n",
       "0  [#QAnon, #WWG1WGA, #WORLDWIDE, #Tower, #JE]   \n",
       "1                                           []   \n",
       "2                                           []   \n",
       "3                                           []   \n",
       "4                                  [#Covid_19]   \n",
       "\n",
       "                                            no_links  \\\n",
       "0  RT @skitvomfeinsten: +++++++ GOD AlWAYS WIN ++...   \n",
       "1  RT @HalladayIn: @outofcontroljb @kaitlancollin...   \n",
       "2  RT @matthaig1: Hi conspiracy theorists! A few ...   \n",
       "3  RT @panos941: People beginning to lose it 😬&gt...   \n",
       "4  RT @ZaidZamanHamid: This is one of the most im...   \n",
       "\n",
       "                                            no_users  \n",
       "0  : +++++++ GOD AlWAYS WIN +++++++\\n\\nBirds disc...  \n",
       "1  :   The Covid-positive valet is part of the de...  \n",
       "2  : Hi conspiracy theorists! A few q’s. If 5G is...  \n",
       "3  : People beginning to lose it 😬&gt;Almost 80 m...  \n",
       "4  : This is one of the most important reasons wh...  "
      ]
     },
     "execution_count": 14,
     "metadata": {},
     "output_type": "execute_result"
    }
   ],
   "source": [
    "df_5G.head()"
   ]
  },
  {
   "cell_type": "markdown",
   "metadata": {},
   "source": [
    "Con este análisis se ha podido estudiar los posibles fallos y mejoras que se le pueden hacer al dataset descargado a partir del scraper. En el dataset común del equipo se aglutinarán con todas las contribuciones del equipo para generar un dataset limpio y listo para usarse"
   ]
  }
 ],
 "metadata": {
  "kernelspec": {
   "display_name": "Python 3",
   "language": "python",
   "name": "python3"
  },
  "language_info": {
   "codemirror_mode": {
    "name": "ipython",
    "version": 3
   },
   "file_extension": ".py",
   "mimetype": "text/x-python",
   "name": "python",
   "nbconvert_exporter": "python",
   "pygments_lexer": "ipython3",
   "version": "3.7.4"
  }
 },
 "nbformat": 4,
 "nbformat_minor": 2
}
